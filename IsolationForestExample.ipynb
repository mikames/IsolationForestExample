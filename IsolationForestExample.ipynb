{
 "cells": [
  {
   "cell_type": "markdown",
   "id": "e46cb607",
   "metadata": {},
   "source": [
    "## Anomaly Detection via IsolationForest\n",
    "\n",
    "Mike Ames  \n",
    "mikames@amazon.com  \n",
    "01APR2022  \n",
    "\n",
    "\n",
    "### Overview\n",
    "-----\n",
    "\n",
    "There are dozens (probably hundreds) of books dedicated to the subject of anomaly and outlier detection. The most common approaches expect that you know what “normal” looks like so that you can identify instances that don’t conform to the “normal” profile. There are statistical techniques, supervised, unsupervised, even semi-supervised methods to look at anomalies in data. This notebook uses the Isolation Forest method to detect anomalous data points within a data set. Isolation Forest is a powerful unsupervised algorithm which can be used to identify non-obvious observations which diverge from otherwise well-structured data. \n",
    "\n",
    "Isolation Forest associates each data point with anomaly score. The lower, the more abnormal the observation is. The definitions of \"low\" and \"high\" depend on the dataset as well see.\n",
    "\n",
    "\n",
    "### How to use this notebook \n",
    "-----\n",
    "The goal of this notebook is to identify and label a sufficent anomalies so that we can train a Amazon Fraud Detector model. To do this we are going to perform the following\n",
    "\n",
    "1. profile the dataset and identify numeric and categorical variables\n",
    "2. train and evaluate an Isolation Forest \n",
    "3. select an anomaly score threshold which will be used to create an EVENT_LABEL \n",
    "4. score the dataset to produce a new EVENT_LABEL\n",
    "5. write the updated dataset to a new CSV file. \n",
    "\n",
    "\n",
    "#### Setup \n",
    "-----\n",
    "To get started you need the following:\n",
    "1. a python enviornment i sugest simply downloading and installing anaconda https://www.anaconda.com/ this will install all of the required packages and provide a jupyter notebook enviornment. \n",
    "2. location of your CSV dataset. \n",
    "3. make a copy of this notebook and run it with the sampel dataset provided\n",
    "4. update your version of the notebook with your CSV file\n",
    "5. walk through the notebook and update the anomaly_score_threshold \n",
    "6. it will produce a new CSV file which you can then dump in S3 and train an Fraud Detector Model with. \n",
    "\n",
    "\n",
    "\n",
    "<div class=\"alert alert-info\"> <strong> Overview </strong>\n",
    "\n",
    "- INPUT_FILE - the path and file name of the CSV file for processing \n",
    "- OUTPUT_FILE - the path and name of the CSV file produced from running the notebook. \n",
    "\n",
    "</div>\n"
   ]
  },
  {
   "cell_type": "code",
   "execution_count": 1,
   "id": "b7f49f71",
   "metadata": {},
   "outputs": [
    {
     "data": {
      "text/html": [
       "<style>.container { width:90% }</style>"
      ],
      "text/plain": [
       "<IPython.core.display.HTML object>"
      ]
     },
     "metadata": {},
     "output_type": "display_data"
    }
   ],
   "source": [
    "from IPython.core.display import display, HTML\n",
    "from IPython.display import clear_output\n",
    "display(HTML(\"<style>.container { width:90% }</style>\"))\n",
    "import warnings\n",
    "warnings.filterwarnings('ignore')\n",
    "# ------------------------------------------------------------------\n",
    "\n",
    "import numpy as np\n",
    "import pandas as pd\n",
    "import seaborn as sns\n",
    "from datetime import datetime\n",
    "import matplotlib.pyplot as plt\n",
    "\n",
    "# -- sklearn modules \n",
    "from sklearn.model_selection import train_test_split   #- partition train/test split \n",
    "from sklearn.ensemble import IsolationForest           #- isolation forest \n",
    "\n",
    "# -- we need these to make our pipelines \n",
    "from sklearn.pipeline import Pipeline\n",
    "from sklearn.impute import SimpleImputer\n",
    "from sklearn.compose import ColumnTransformer\n",
    "from sklearn.preprocessing import OneHotEncoder, StandardScaler, RobustScaler\n",
    "\n",
    "# -- need this to render charts in notebook -- \n",
    "%matplotlib inline"
   ]
  },
  {
   "cell_type": "markdown",
   "id": "2df0dad8",
   "metadata": {},
   "source": [
    "## Your Dataset and Location \n",
    "\n",
    "---- \n",
    "\n",
    "My sample dataset happens to be located in a github repository, yours could be local or on a file system somewhere just change the read_csv to the appropraite location. All we are going to do here is read the file into a panda's dataframe. Then \n",
    "\n",
    "<div class=\"alert alert-info\"> <strong> Define INPUT and OUTPUT FILES </strong>\n",
    " \n",
    "- INPUT_FILE : fully qualified path to the input CSV file  \n",
    "- OUTPUT_FILE : fully qualified path to the output CSV file   \n",
    "\n",
    "</div>\n",
    "\n",
    "### Dataset Format \n",
    "\n",
    "Assuming we are planning on using Amazon Fraud Detector, your file may or maynot contain an EVENT_LABEL but should contain an EVENT_TIMESTAMP. We will be creating an EVENT_LABEL based on the IsolationForest score below. "
   ]
  },
  {
   "cell_type": "code",
   "execution_count": 2,
   "id": "6e94fdf2",
   "metadata": {},
   "outputs": [
    {
     "name": "stdout",
     "output_type": "stream",
     "text": [
      "Input File : https://raw.githubusercontent.com/mikames/IsolationForestExample/main/data/rcf_110k.csv\n",
      "Output File: fraud_detector_file_2022_04_21.csv\n"
     ]
    },
    {
     "data": {
      "text/html": [
       "<div>\n",
       "<style scoped>\n",
       "    .dataframe tbody tr th:only-of-type {\n",
       "        vertical-align: middle;\n",
       "    }\n",
       "\n",
       "    .dataframe tbody tr th {\n",
       "        vertical-align: top;\n",
       "    }\n",
       "\n",
       "    .dataframe thead th {\n",
       "        text-align: right;\n",
       "    }\n",
       "</style>\n",
       "<table border=\"1\" class=\"dataframe\">\n",
       "  <thead>\n",
       "    <tr style=\"text-align: right;\">\n",
       "      <th></th>\n",
       "      <th>account_tenure_yrs</th>\n",
       "      <th>normalized_currency_amt</th>\n",
       "      <th>original_currency_amt</th>\n",
       "      <th>currency</th>\n",
       "      <th>EVENT_TIMESTAMP</th>\n",
       "      <th>ip_address</th>\n",
       "      <th>email_address</th>\n",
       "      <th>EVENT_LABEL</th>\n",
       "    </tr>\n",
       "  </thead>\n",
       "  <tbody>\n",
       "    <tr>\n",
       "      <th>0</th>\n",
       "      <td>11.0</td>\n",
       "      <td>38334.0</td>\n",
       "      <td>36466.0</td>\n",
       "      <td>eur</td>\n",
       "      <td>2021-08-14 05:38:58</td>\n",
       "      <td>57.115.15.248</td>\n",
       "      <td>lcarlson@example.org</td>\n",
       "      <td>legit</td>\n",
       "    </tr>\n",
       "    <tr>\n",
       "      <th>1</th>\n",
       "      <td>6.0</td>\n",
       "      <td>50104.0</td>\n",
       "      <td>24775.0</td>\n",
       "      <td>usd</td>\n",
       "      <td>2021-10-21 13:29:39</td>\n",
       "      <td>203.218.41.214</td>\n",
       "      <td>brianfowler@example.org</td>\n",
       "      <td>legit</td>\n",
       "    </tr>\n",
       "    <tr>\n",
       "      <th>2</th>\n",
       "      <td>16.0</td>\n",
       "      <td>21516.0</td>\n",
       "      <td>46364.0</td>\n",
       "      <td>usd</td>\n",
       "      <td>2021-06-18 03:28:47</td>\n",
       "      <td>131.7.35.71</td>\n",
       "      <td>lthomas@example.org</td>\n",
       "      <td>legit</td>\n",
       "    </tr>\n",
       "    <tr>\n",
       "      <th>3</th>\n",
       "      <td>6.0</td>\n",
       "      <td>50446.0</td>\n",
       "      <td>23668.0</td>\n",
       "      <td>usd</td>\n",
       "      <td>2021-05-08 22:44:29</td>\n",
       "      <td>150.245.11.96</td>\n",
       "      <td>victoria20@example.com</td>\n",
       "      <td>legit</td>\n",
       "    </tr>\n",
       "    <tr>\n",
       "      <th>4</th>\n",
       "      <td>10.0</td>\n",
       "      <td>43560.0</td>\n",
       "      <td>32309.0</td>\n",
       "      <td>eur</td>\n",
       "      <td>2021-08-24 00:17:08</td>\n",
       "      <td>155.110.112.38</td>\n",
       "      <td>amandamartinez@example.com</td>\n",
       "      <td>legit</td>\n",
       "    </tr>\n",
       "  </tbody>\n",
       "</table>\n",
       "</div>"
      ],
      "text/plain": [
       "   account_tenure_yrs  normalized_currency_amt  original_currency_amt  \\\n",
       "0                11.0                  38334.0                36466.0   \n",
       "1                 6.0                  50104.0                24775.0   \n",
       "2                16.0                  21516.0                46364.0   \n",
       "3                 6.0                  50446.0                23668.0   \n",
       "4                10.0                  43560.0                32309.0   \n",
       "\n",
       "  currency      EVENT_TIMESTAMP      ip_address               email_address  \\\n",
       "0      eur  2021-08-14 05:38:58   57.115.15.248        lcarlson@example.org   \n",
       "1      usd  2021-10-21 13:29:39  203.218.41.214     brianfowler@example.org   \n",
       "2      usd  2021-06-18 03:28:47     131.7.35.71         lthomas@example.org   \n",
       "3      usd  2021-05-08 22:44:29   150.245.11.96      victoria20@example.com   \n",
       "4      eur  2021-08-24 00:17:08  155.110.112.38  amandamartinez@example.com   \n",
       "\n",
       "  EVENT_LABEL  \n",
       "0       legit  \n",
       "1       legit  \n",
       "2       legit  \n",
       "3       legit  \n",
       "4       legit  "
      ]
     },
     "execution_count": 2,
     "metadata": {},
     "output_type": "execute_result"
    }
   ],
   "source": [
    "\n",
    "# -- set to your file location -- \n",
    "INPUT_FILE = \"https://raw.githubusercontent.com/mikames/IsolationForestExample/main/data/rcf_110k.csv\"\n",
    "OUTPUT_FILE = \"fraud_detector_file_{}.csv\".format(datetime.now().strftime(\"%Y_%m_%d\"))\n",
    "print(\"Input File : {}\".format(INPUT_FILE))\n",
    "print(\"Output File: {}\".format(OUTPUT_FILE))\n",
    "\n",
    "# -- read file into a dataframe called \"df\" \n",
    "df = pd.read_csv(INPUT_FILE)\n",
    "df.head()"
   ]
  },
  {
   "cell_type": "markdown",
   "id": "de22187c",
   "metadata": {},
   "source": [
    "## Profile the data. \n",
    "-----\n",
    "\n",
    "The following function simply profiles your data frame and determines which variables shoudl be included/excluded from the ilsoation forest.\n"
   ]
  },
  {
   "cell_type": "code",
   "execution_count": 3,
   "id": "3d5d9128",
   "metadata": {},
   "outputs": [
    {
     "data": {
      "text/html": [
       "<div>\n",
       "<style scoped>\n",
       "    .dataframe tbody tr th:only-of-type {\n",
       "        vertical-align: middle;\n",
       "    }\n",
       "\n",
       "    .dataframe tbody tr th {\n",
       "        vertical-align: top;\n",
       "    }\n",
       "\n",
       "    .dataframe thead th {\n",
       "        text-align: right;\n",
       "    }\n",
       "</style>\n",
       "<table border=\"1\" class=\"dataframe\">\n",
       "  <thead>\n",
       "    <tr style=\"text-align: right;\">\n",
       "      <th></th>\n",
       "      <th>feature_name</th>\n",
       "      <th>dtype</th>\n",
       "      <th>count</th>\n",
       "      <th>nunique</th>\n",
       "      <th>mean</th>\n",
       "      <th>min</th>\n",
       "      <th>max</th>\n",
       "      <th>null</th>\n",
       "      <th>not_null</th>\n",
       "      <th>null_pct</th>\n",
       "      <th>nunique_pct</th>\n",
       "      <th>feature_type</th>\n",
       "      <th>feature_warning</th>\n",
       "    </tr>\n",
       "  </thead>\n",
       "  <tbody>\n",
       "    <tr>\n",
       "      <th>0</th>\n",
       "      <td>account_tenure_yrs</td>\n",
       "      <td>float64</td>\n",
       "      <td>110000</td>\n",
       "      <td>25</td>\n",
       "      <td>11.412009</td>\n",
       "      <td>0.0</td>\n",
       "      <td>24.0</td>\n",
       "      <td>0</td>\n",
       "      <td>110000</td>\n",
       "      <td>0.0</td>\n",
       "      <td>0.000227</td>\n",
       "      <td>NUMERIC</td>\n",
       "      <td>NO WARNING</td>\n",
       "    </tr>\n",
       "    <tr>\n",
       "      <th>1</th>\n",
       "      <td>normalized_currency_amt</td>\n",
       "      <td>float64</td>\n",
       "      <td>110000</td>\n",
       "      <td>35468</td>\n",
       "      <td>41020.239745</td>\n",
       "      <td>100.0</td>\n",
       "      <td>99999.0</td>\n",
       "      <td>0</td>\n",
       "      <td>110000</td>\n",
       "      <td>0.0</td>\n",
       "      <td>0.322436</td>\n",
       "      <td>NUMERIC</td>\n",
       "      <td>NO WARNING</td>\n",
       "    </tr>\n",
       "    <tr>\n",
       "      <th>2</th>\n",
       "      <td>original_currency_amt</td>\n",
       "      <td>float64</td>\n",
       "      <td>110000</td>\n",
       "      <td>49692</td>\n",
       "      <td>42961.098964</td>\n",
       "      <td>100.0</td>\n",
       "      <td>99999.0</td>\n",
       "      <td>0</td>\n",
       "      <td>110000</td>\n",
       "      <td>0.0</td>\n",
       "      <td>0.451745</td>\n",
       "      <td>NUMERIC</td>\n",
       "      <td>NO WARNING</td>\n",
       "    </tr>\n",
       "    <tr>\n",
       "      <th>3</th>\n",
       "      <td>currency</td>\n",
       "      <td>object</td>\n",
       "      <td>110000</td>\n",
       "      <td>3</td>\n",
       "      <td>NaN</td>\n",
       "      <td>cad</td>\n",
       "      <td>usd</td>\n",
       "      <td>0</td>\n",
       "      <td>110000</td>\n",
       "      <td>0.0</td>\n",
       "      <td>0.000027</td>\n",
       "      <td>CATEGORY</td>\n",
       "      <td>NO WARNING</td>\n",
       "    </tr>\n",
       "    <tr>\n",
       "      <th>4</th>\n",
       "      <td>EVENT_TIMESTAMP</td>\n",
       "      <td>object</td>\n",
       "      <td>110000</td>\n",
       "      <td>109800</td>\n",
       "      <td>NaN</td>\n",
       "      <td>2021-04-13 03:45:59</td>\n",
       "      <td>2022-04-13 09:28:40</td>\n",
       "      <td>0</td>\n",
       "      <td>110000</td>\n",
       "      <td>0.0</td>\n",
       "      <td>0.998182</td>\n",
       "      <td>EVENT_TIMESTAMP</td>\n",
       "      <td>EXCLUDE, GT 70% UNIQUE</td>\n",
       "    </tr>\n",
       "    <tr>\n",
       "      <th>5</th>\n",
       "      <td>ip_address</td>\n",
       "      <td>object</td>\n",
       "      <td>110000</td>\n",
       "      <td>109999</td>\n",
       "      <td>NaN</td>\n",
       "      <td>1.1.25.108</td>\n",
       "      <td>99.94.90.205</td>\n",
       "      <td>0</td>\n",
       "      <td>110000</td>\n",
       "      <td>0.0</td>\n",
       "      <td>0.999991</td>\n",
       "      <td>IGNORE</td>\n",
       "      <td>EXCLUDE, GT 70% UNIQUE</td>\n",
       "    </tr>\n",
       "    <tr>\n",
       "      <th>6</th>\n",
       "      <td>email_address</td>\n",
       "      <td>object</td>\n",
       "      <td>110000</td>\n",
       "      <td>93435</td>\n",
       "      <td>NaN</td>\n",
       "      <td>aabbott@example.com</td>\n",
       "      <td>zzimmerman@example.com</td>\n",
       "      <td>0</td>\n",
       "      <td>110000</td>\n",
       "      <td>0.0</td>\n",
       "      <td>0.849409</td>\n",
       "      <td>IGNORE</td>\n",
       "      <td>EXCLUDE, GT 70% UNIQUE</td>\n",
       "    </tr>\n",
       "    <tr>\n",
       "      <th>7</th>\n",
       "      <td>EVENT_LABEL</td>\n",
       "      <td>object</td>\n",
       "      <td>110000</td>\n",
       "      <td>2</td>\n",
       "      <td>NaN</td>\n",
       "      <td>fraud</td>\n",
       "      <td>legit</td>\n",
       "      <td>0</td>\n",
       "      <td>110000</td>\n",
       "      <td>0.0</td>\n",
       "      <td>0.000018</td>\n",
       "      <td>TARGET</td>\n",
       "      <td>TARGET VARIABLE</td>\n",
       "    </tr>\n",
       "  </tbody>\n",
       "</table>\n",
       "</div>"
      ],
      "text/plain": [
       "              feature_name    dtype   count  nunique          mean  \\\n",
       "0       account_tenure_yrs  float64  110000       25     11.412009   \n",
       "1  normalized_currency_amt  float64  110000    35468  41020.239745   \n",
       "2    original_currency_amt  float64  110000    49692  42961.098964   \n",
       "3                 currency   object  110000        3           NaN   \n",
       "4          EVENT_TIMESTAMP   object  110000   109800           NaN   \n",
       "5               ip_address   object  110000   109999           NaN   \n",
       "6            email_address   object  110000    93435           NaN   \n",
       "7              EVENT_LABEL   object  110000        2           NaN   \n",
       "\n",
       "                   min                     max  null  not_null  null_pct  \\\n",
       "0                  0.0                    24.0     0    110000       0.0   \n",
       "1                100.0                 99999.0     0    110000       0.0   \n",
       "2                100.0                 99999.0     0    110000       0.0   \n",
       "3                  cad                     usd     0    110000       0.0   \n",
       "4  2021-04-13 03:45:59     2022-04-13 09:28:40     0    110000       0.0   \n",
       "5           1.1.25.108            99.94.90.205     0    110000       0.0   \n",
       "6  aabbott@example.com  zzimmerman@example.com     0    110000       0.0   \n",
       "7                fraud                   legit     0    110000       0.0   \n",
       "\n",
       "   nunique_pct     feature_type         feature_warning  \n",
       "0     0.000227          NUMERIC              NO WARNING  \n",
       "1     0.322436          NUMERIC              NO WARNING  \n",
       "2     0.451745          NUMERIC              NO WARNING  \n",
       "3     0.000027         CATEGORY              NO WARNING  \n",
       "4     0.998182  EVENT_TIMESTAMP  EXCLUDE, GT 70% UNIQUE  \n",
       "5     0.999991           IGNORE  EXCLUDE, GT 70% UNIQUE  \n",
       "6     0.849409           IGNORE  EXCLUDE, GT 70% UNIQUE  \n",
       "7     0.000018           TARGET         TARGET VARIABLE  "
      ]
     },
     "execution_count": 3,
     "metadata": {},
     "output_type": "execute_result"
    }
   ],
   "source": [
    "def df_profile(df):\n",
    "    \n",
    "    df = df.copy()\n",
    "    \n",
    "    numeric_features = [ c for c in df.select_dtypes(include = np.number).columns ]\n",
    "    \n",
    "    categorical_features = [ c for c in df.select_dtypes(include = np.object).columns ]\n",
    "   \n",
    "    rowcnt = len(df)\n",
    "    df_s1  = df.agg(['count', 'nunique','mean','min','max']).transpose().reset_index().rename(columns={\"index\":\"feature_name\"}).round(4)\n",
    "    df_s1['count'] = df_s1['count'].astype('int64')\n",
    "    df_s1['nunique'] = df_s1['nunique'].astype('int64')\n",
    "    df_s1[\"null\"] = (rowcnt - df_s1[\"count\"]).astype('int64')\n",
    "    df_s1[\"not_null\"] = rowcnt - df_s1[\"null\"]\n",
    "    df_s1[\"null_pct\"] = df_s1[\"null\"] / rowcnt\n",
    "    df_s1[\"nunique_pct\"] = df_s1['nunique'] / rowcnt\n",
    "    dt = pd.DataFrame(df.dtypes).reset_index().rename(columns={\"index\":\"feature_name\", 0:\"dtype\"})\n",
    "    df_stats = pd.merge(dt, df_s1, on='feature_name', how='inner')\n",
    "\n",
    "    df_stats = df_stats.sort_values(\"dtype\").reset_index(drop=True)\n",
    "    # -- part 2 \n",
    "    df_stats['feature_type'] = \"IGNORE\"\n",
    "    df_stats.loc[(df_stats[\"dtype\"] == object) & (df_stats[\"nunique\"] <= 32), 'feature_type'] = \"CATEGORY\"\n",
    "    df_stats.loc[(df_stats[\"dtype\"] == \"int64\") | (df_stats[\"dtype\"] == \"float64\"), 'feature_type'] = \"NUMERIC\"\n",
    "    # df_stats.loc[df_stats[\"dtype\"] == \"float64\", 'feature_type'] = \"NUMERIC\"\n",
    "    df_stats.loc[df_stats[\"feature_name\"] == \"EVENT_LABEL\", 'feature_type'] = \"TARGET\"\n",
    "    df_stats.loc[df_stats[\"feature_name\"] == \"EVENT_TIMESTAMP\", 'feature_type'] = \"EVENT_TIMESTAMP\"\n",
    "    \n",
    "    \n",
    "    # -- part 3 \n",
    "    df_stats['feature_warning'] = \"NO WARNING\"\n",
    "    df_stats.loc[df_stats[\"nunique_pct\"] > 0.7,'feature_warning' ] = \"EXCLUDE, GT 70% UNIQUE\"\n",
    "    df_stats.loc[(df_stats[\"null_pct\"] > 0.2) & (df_stats[\"null_pct\"] <= 0.5), 'feature_warning' ] = \"NULL WARNING, GT 20% MISSING\"\n",
    "    df_stats.loc[df_stats[\"null_pct\"] > 0.5,'feature_warning' ] = \"EXCLUDE, GT 50% MISSING\"\n",
    "    #if null_pct > 0.2 then feature_warning = \"NULL WARNING, GT 20% MISSING\"\n",
    "    df_stats.loc[((df_stats['dtype'] == \"int64\" ) | (df_stats['dtype'] == \"float64\" ) ) & (df_stats['nunique'] < 0.2), 'feature_warning' ] = \"LIKELY CATEGORICAL, NUMERIC w. LOW CARDINALITY\"\n",
    "    #df_stats.loc[((df_stats['dtype'] == \"int64\" ) | (df_stats['dtype'] == \"float64\" ) ) & (df_stats['nunique'] < 0.2), 'feature_warning' ] = \"LIKELY CATEGORICAL, NUMERIC w. LOW CARDINALITY\"\n",
    "    df_stats.loc[df_stats[\"feature_name\"] == \"EVENT_LABEL\",'feature_warning' ] = \"TARGET VARIABLE\"\n",
    "    return df_stats\n",
    "\n",
    "df_stats = df_profile(df)\n",
    "df_stats"
   ]
  },
  {
   "cell_type": "markdown",
   "id": "c54780b8-2bf6-4979-aba9-bc8e262a7c88",
   "metadata": {},
   "source": [
    "## Data Transformation \n",
    "-----\n",
    "IsolationForests only work with numeric data so we are going to identify which variables we want to use based on the profile and how we'll handle nulls and categorical variables. \n",
    "\n",
    "- numeric variables with null values will be replaced with -1 \n",
    "- categorical variables with null values will be replaced with \"UNKNOWN\"\n",
    "- categorical variables will be dummy encoded for simplicy\n",
    "\n",
    ">Note: only categories with fewer than 32 levels are included, there are of course several other transformations we could perform but this will get the ball rolling!\n",
    "\n",
    "----\n",
    "If you want to include or exclude varaibles in the detection simply specify the variable names in a list like this \n",
    "\n",
    "```python\n",
    "\n",
    "numeric_features = ['account_tenure_yrs', 'normalized_currency_amt', 'original_currency_amt']\n",
    "categorical_features = ['currency']\n",
    "\n",
    "```"
   ]
  },
  {
   "cell_type": "code",
   "execution_count": 4,
   "id": "ff708f40",
   "metadata": {},
   "outputs": [
    {
     "data": {
      "text/plain": [
       "['account_tenure_yrs', 'normalized_currency_amt', 'original_currency_amt']"
      ]
     },
     "execution_count": 4,
     "metadata": {},
     "output_type": "execute_result"
    }
   ],
   "source": [
    "numeric_features = df_stats[df_stats[\"feature_type\"] == \"NUMERIC\"][\"feature_name\"].tolist()\n",
    "numeric_features"
   ]
  },
  {
   "cell_type": "code",
   "execution_count": 5,
   "id": "67c847ec-609e-4c20-b0de-6e05e82d6ddd",
   "metadata": {},
   "outputs": [
    {
     "data": {
      "text/plain": [
       "['currency']"
      ]
     },
     "execution_count": 5,
     "metadata": {},
     "output_type": "execute_result"
    }
   ],
   "source": [
    "categorical_features = df_stats[df_stats[\"feature_type\"] == \"CATEGORY\"][\"feature_name\"].tolist()\n",
    "categorical_features"
   ]
  },
  {
   "cell_type": "code",
   "execution_count": 6,
   "id": "ebef3558",
   "metadata": {},
   "outputs": [],
   "source": [
    "# combined feature names of numeric and categorical \n",
    "feature_names = numeric_features + categorical_features"
   ]
  },
  {
   "cell_type": "code",
   "execution_count": 7,
   "id": "9ca6ea69",
   "metadata": {},
   "outputs": [
    {
     "data": {
      "text/plain": [
       "Pipeline(steps=[('preprocess',\n",
       "                 ColumnTransformer(transformers=[('cat',\n",
       "                                                  Pipeline(steps=[('imputer',\n",
       "                                                                   SimpleImputer(fill_value='UNKNOWN',\n",
       "                                                                                 strategy='constant')),\n",
       "                                                                  ('countenc',\n",
       "                                                                   OneHotEncoder())]),\n",
       "                                                  ['currency']),\n",
       "                                                 ('num',\n",
       "                                                  Pipeline(steps=[('imputer',\n",
       "                                                                   SimpleImputer(fill_value=-1,\n",
       "                                                                                 strategy='constant'))]),\n",
       "                                                  ['account_tenure_yrs',\n",
       "                                                   'normalized_currency_amt',\n",
       "                                                   'original_currency_amt'])])),\n",
       "                ('classifier',\n",
       "                 IsolationForest(contamination=0.001, max_samples=0.1,\n",
       "                                 n_jobs=-1))])"
      ]
     },
     "execution_count": 7,
     "metadata": {},
     "output_type": "execute_result"
    }
   ],
   "source": [
    "\n",
    "\n",
    "CONTAMINATION_RATE = 0.001 # -- what is the expected anomaly rate 1 in a 1k or 1 in 10k ? \n",
    "\n",
    "# -- define pipeline --\n",
    "categorical_pipe = Pipeline([\n",
    "    ('imputer', SimpleImputer(strategy='constant', fill_value='UNKNOWN')),\n",
    "    ('countenc',  OneHotEncoder())  \n",
    "])\n",
    "\n",
    "numerical_pipe = Pipeline([\n",
    "    ('imputer', SimpleImputer(strategy='constant',fill_value=-1 ))\n",
    "])\n",
    "\n",
    "preprocessing = ColumnTransformer(transformers=[\n",
    "    ('cat', categorical_pipe, categorical_features),\n",
    "    ('num', numerical_pipe, numeric_features)\n",
    "    ])\n",
    "\n",
    "model_pipeline = Pipeline([\n",
    "    ('preprocess', preprocessing),\n",
    "    ('classifier', IsolationForest(\n",
    "        n_estimators = 100,\n",
    "        max_samples  = 0.1,\n",
    "        n_jobs=-1,\n",
    "        contamination = CONTAMINATION_RATE\n",
    "    ))\n",
    "])\n",
    "\n",
    "\n",
    "model_pipeline.fit(df[numeric_features + categorical_features])"
   ]
  },
  {
   "cell_type": "markdown",
   "id": "a425a90d-59a0-4591-89e7-4a31fa84f08a",
   "metadata": {},
   "source": [
    "## Evaluate \n",
    "\n",
    "-----\n",
    "\n",
    "So here we are going to score the dataset and evaluate a \"suggested\" outlier score threshold. this will ultimately be used to create our new \"EVENT_LABEL\" \n",
    "\n",
    "1. First look at the number of outliers created, if there are too many adjust the CONTAMINATION_RATE above and retrain.  \n",
    "2. Next look at the score distribution and the \"sugested outlier_score threshold\" this will be used to create your EVENT_LABEL\n",
    "3. Finally we'll look at the number of \"anomalies\" produced at the \"sugested outlier_score threshold\", you can simply increase or decrease the threshold to generate the number of anomalies.  \n"
   ]
  },
  {
   "cell_type": "code",
   "execution_count": 8,
   "id": "b308b94e",
   "metadata": {},
   "outputs": [
    {
     "data": {
      "text/plain": [
       " 1    109890\n",
       "-1       110\n",
       "Name: outlier_ind, dtype: int64"
      ]
     },
     "execution_count": 8,
     "metadata": {},
     "output_type": "execute_result"
    }
   ],
   "source": [
    "# -- 1. score the dataset and look at \"raw number\" of anomalies created if large set a smaller contamination rate -- \n",
    "df[\"outlier_ind\"] = model_pipeline.predict(df[numeric_features + categorical_features])\n",
    "df[\"outlier_score\"] = model_pipeline.score_samples(df[numeric_features + categorical_features])\n",
    "df[\"outlier_ind\"].value_counts()"
   ]
  },
  {
   "cell_type": "code",
   "execution_count": 9,
   "id": "112c9f41-334e-490a-ae5e-8bece164e195",
   "metadata": {},
   "outputs": [
    {
     "name": "stdout",
     "output_type": "stream",
     "text": [
      "sugested outlier_score threshold -0.668\n",
      "number of anomalies produced at that score threshold: 401\n"
     ]
    }
   ],
   "source": [
    "# -- 2. sugested score threshold \n",
    "sugested_threshold = df.sort_values(\"outlier_score\").iloc[400][\"outlier_score\"]\n",
    "print(\"sugested outlier_score threshold {:.3f}\".format(sugested_threshold))\n",
    "\n",
    "outlier_count = df.query('outlier_score <= @sugested_threshold').shape[0]\n",
    "print(\"number of anomalies produced at that score threshold: {:.0f}\".format(outlier_count))"
   ]
  },
  {
   "cell_type": "code",
   "execution_count": 10,
   "id": "fd6cec02",
   "metadata": {},
   "outputs": [
    {
     "data": {
      "text/plain": [
       "<matplotlib.lines.Line2D at 0x7faee9db5100>"
      ]
     },
     "execution_count": 10,
     "metadata": {},
     "output_type": "execute_result"
    },
    {
     "data": {
      "image/png": "[encoded data removed]",
      "text/plain": [
       "<Figure size 1440x576 with 1 Axes>"
      ]
     },
     "metadata": {
      "needs_background": "light"
     },
     "output_type": "display_data"
    }
   ],
   "source": [
    "# -- plot score distribution -- \n",
    "plt.figure(figsize = (20,8))\n",
    "sns.histplot(data=df,x=\"outlier_score\", bins=100)\n",
    "plt.title(\"Predicted Score Distribution - Suggested Threshold {:.3f}\".format(sugested_threshold))\n",
    "plt.xlabel(\"Predicted Score\")\n",
    "plt.ylabel(\"Frequency\")\n",
    "plt.axvline(x=sugested_threshold, ls='--', linewidth = 2, c='grey')"
   ]
  },
  {
   "cell_type": "code",
   "execution_count": null,
   "id": "8edb8bad-bf29-4226-9755-b6decb8bab46",
   "metadata": {},
   "outputs": [],
   "source": []
  },
  {
   "cell_type": "markdown",
   "id": "8de50d4d-cd2a-4d1e-9d79-2f58587d6a53",
   "metadata": {},
   "source": [
    "## Create EVENT_LABEL and write out Dataset \n",
    "\n",
    "------\n",
    "\n",
    "Here we are going to actually create our EVENT_LABEL variable, you can replace the value of \"anomaly\" and \"legit\" with what every lables you want to use in fraud detector. \n",
    "\n",
    "1. do a quick check on the value counts of legit and anomaly\n",
    "2. drop the outlier_score, outlier_ind columns - these are no longer needed and will give AFD greif. \n",
    "3. write the \"scored\" CSV out, it's now ready for import into AFD. \n",
    "\n",
    "\n"
   ]
  },
  {
   "cell_type": "code",
   "execution_count": 11,
   "id": "9a291b7d-dcb1-4797-8a61-aef5d1fd769a",
   "metadata": {},
   "outputs": [
    {
     "data": {
      "text/plain": [
       "legit      109599\n",
       "anomaly       401\n",
       "Name: EVENT_LABEL, dtype: int64"
      ]
     },
     "execution_count": 11,
     "metadata": {},
     "output_type": "execute_result"
    }
   ],
   "source": [
    "# 1. double check the value counts for anomaly and legit look right \n",
    "df[\"EVENT_LABEL\"] = np.where(df[\"outlier_score\"] <= sugested_threshold, \"anomaly\",\"legit\")\n",
    "df[\"EVENT_LABEL\"].value_counts()"
   ]
  },
  {
   "cell_type": "code",
   "execution_count": 12,
   "id": "9c573ed9-7a58-4602-b2fa-03cccb03a913",
   "metadata": {},
   "outputs": [
    {
     "data": {
      "text/html": [
       "<div>\n",
       "<style scoped>\n",
       "    .dataframe tbody tr th:only-of-type {\n",
       "        vertical-align: middle;\n",
       "    }\n",
       "\n",
       "    .dataframe tbody tr th {\n",
       "        vertical-align: top;\n",
       "    }\n",
       "\n",
       "    .dataframe thead th {\n",
       "        text-align: right;\n",
       "    }\n",
       "</style>\n",
       "<table border=\"1\" class=\"dataframe\">\n",
       "  <thead>\n",
       "    <tr style=\"text-align: right;\">\n",
       "      <th></th>\n",
       "      <th>account_tenure_yrs</th>\n",
       "      <th>normalized_currency_amt</th>\n",
       "      <th>original_currency_amt</th>\n",
       "      <th>currency</th>\n",
       "      <th>EVENT_TIMESTAMP</th>\n",
       "      <th>ip_address</th>\n",
       "      <th>email_address</th>\n",
       "      <th>EVENT_LABEL</th>\n",
       "    </tr>\n",
       "  </thead>\n",
       "  <tbody>\n",
       "    <tr>\n",
       "      <th>0</th>\n",
       "      <td>11.0</td>\n",
       "      <td>38334.0</td>\n",
       "      <td>36466.0</td>\n",
       "      <td>eur</td>\n",
       "      <td>2021-08-14 05:38:58</td>\n",
       "      <td>57.115.15.248</td>\n",
       "      <td>lcarlson@example.org</td>\n",
       "      <td>legit</td>\n",
       "    </tr>\n",
       "    <tr>\n",
       "      <th>1</th>\n",
       "      <td>6.0</td>\n",
       "      <td>50104.0</td>\n",
       "      <td>24775.0</td>\n",
       "      <td>usd</td>\n",
       "      <td>2021-10-21 13:29:39</td>\n",
       "      <td>203.218.41.214</td>\n",
       "      <td>brianfowler@example.org</td>\n",
       "      <td>legit</td>\n",
       "    </tr>\n",
       "    <tr>\n",
       "      <th>2</th>\n",
       "      <td>16.0</td>\n",
       "      <td>21516.0</td>\n",
       "      <td>46364.0</td>\n",
       "      <td>usd</td>\n",
       "      <td>2021-06-18 03:28:47</td>\n",
       "      <td>131.7.35.71</td>\n",
       "      <td>lthomas@example.org</td>\n",
       "      <td>legit</td>\n",
       "    </tr>\n",
       "    <tr>\n",
       "      <th>3</th>\n",
       "      <td>6.0</td>\n",
       "      <td>50446.0</td>\n",
       "      <td>23668.0</td>\n",
       "      <td>usd</td>\n",
       "      <td>2021-05-08 22:44:29</td>\n",
       "      <td>150.245.11.96</td>\n",
       "      <td>victoria20@example.com</td>\n",
       "      <td>legit</td>\n",
       "    </tr>\n",
       "    <tr>\n",
       "      <th>4</th>\n",
       "      <td>10.0</td>\n",
       "      <td>43560.0</td>\n",
       "      <td>32309.0</td>\n",
       "      <td>eur</td>\n",
       "      <td>2021-08-24 00:17:08</td>\n",
       "      <td>155.110.112.38</td>\n",
       "      <td>amandamartinez@example.com</td>\n",
       "      <td>legit</td>\n",
       "    </tr>\n",
       "  </tbody>\n",
       "</table>\n",
       "</div>"
      ],
      "text/plain": [
       "   account_tenure_yrs  normalized_currency_amt  original_currency_amt  \\\n",
       "0                11.0                  38334.0                36466.0   \n",
       "1                 6.0                  50104.0                24775.0   \n",
       "2                16.0                  21516.0                46364.0   \n",
       "3                 6.0                  50446.0                23668.0   \n",
       "4                10.0                  43560.0                32309.0   \n",
       "\n",
       "  currency      EVENT_TIMESTAMP      ip_address               email_address  \\\n",
       "0      eur  2021-08-14 05:38:58   57.115.15.248        lcarlson@example.org   \n",
       "1      usd  2021-10-21 13:29:39  203.218.41.214     brianfowler@example.org   \n",
       "2      usd  2021-06-18 03:28:47     131.7.35.71         lthomas@example.org   \n",
       "3      usd  2021-05-08 22:44:29   150.245.11.96      victoria20@example.com   \n",
       "4      eur  2021-08-24 00:17:08  155.110.112.38  amandamartinez@example.com   \n",
       "\n",
       "  EVENT_LABEL  \n",
       "0       legit  \n",
       "1       legit  \n",
       "2       legit  \n",
       "3       legit  \n",
       "4       legit  "
      ]
     },
     "execution_count": 12,
     "metadata": {},
     "output_type": "execute_result"
    }
   ],
   "source": [
    "# 2. drop 'outlier_score' and 'outlier_ind' from the dataset! \n",
    "df = df.drop(['outlier_score', 'outlier_ind'], axis=1).copy()\n",
    "df.head()"
   ]
  },
  {
   "cell_type": "code",
   "execution_count": 13,
   "id": "ce4010c1-ea18-4356-98b8-62ac6f5cc38b",
   "metadata": {},
   "outputs": [
    {
     "name": "stdout",
     "output_type": "stream",
     "text": [
      "file written to: fraud_detector_file_2022_04_21.csv\n"
     ]
    }
   ],
   "source": [
    "# 3. write new output CSV file out. \n",
    "df.to_csv(OUTPUT_FILE,index=False)\n",
    "print(\"file written to: {}\".format(OUTPUT_FILE))"
   ]
  },
  {
   "cell_type": "code",
   "execution_count": null,
   "id": "f016131c-00a0-4a9d-86f2-3ab4ddd86606",
   "metadata": {},
   "outputs": [],
   "source": []
  }
 ],
 "metadata": {
  "kernelspec": {
   "display_name": "Python 3 (ipykernel)",
   "language": "python",
   "name": "python3"
  },
  "language_info": {
   "codemirror_mode": {
    "name": "ipython",
    "version": 3
   },
   "file_extension": ".py",
   "mimetype": "text/x-python",
   "name": "python",
   "nbconvert_exporter": "python",
   "pygments_lexer": "ipython3",
   "version": "3.9.7"
  }
 },
 "nbformat": 4,
 "nbformat_minor": 5
}
