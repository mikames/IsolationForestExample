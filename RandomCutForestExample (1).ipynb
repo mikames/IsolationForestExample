{
 "cells": [
  {
   "cell_type": "markdown",
   "id": "d8a65f8e",
   "metadata": {},
   "source": [
    "# Anomaly Detection via RandomCutForest\n",
    "\n",
    "Mike Ames  \n",
    "mikames@amazon.com  \n",
    "13APR2022  \n",
    "\n",
    "\n",
    "### Overview\n",
    "-----\n",
    "\n",
    "There are dozens (probably hundreds) of books dedicated to the subject of anomaly and outlier detection. The most common approaches expect that you know what “normal” looks like so that you can identify instances that don’t conform to the “normal” profile. There are statistical techniques, supervised, unsupervised, even semi-supervised methods to look at anomalies in data. This notebook uses Amazon SageMaker’s Random Cut Forest method to detect anomalous data points within a data set. RCF is an unsupervised algorithm which can be used to identify observations which diverge from otherwise well-structured data. \n",
    "\n",
    "RCF associates each data point with anomaly score. Low score values indicate that the data point is considered \"normal.\" High values indicate the presence of an anomaly in the data. The definitions of \"low\" and \"high\" depend on the dataset as well see. \n",
    "\n",
    "\n",
    "### How to use this notebook \n",
    "-----\n",
    "The goal of this notebook is to identify some number of anomalies in your data and use the RCF to create an EVENT_LABEL. In the event that you have some examples of fraud, great we'll perserve those if not we'll go ahead and gernate a EVENT_LABEL and assign a number of anomalies you can use as a target. \n",
    "\n",
    "\n",
    "\n",
    "\n",
    "#### Setup \n",
    "-----\n",
    "To get started you need the following information \n",
    "1. location of your CSV file to train on. \n",
    "2. you'll need to fire up sagemaker and ensure that the sagemaker user is authorized to publish an endpiont \n",
    "3. location of where you want to write out your CSV file. \n",
    "\n",
    "\n",
    "<div class=\"alert alert-info\"> <strong> Overview </strong>\n",
    "\n",
    "- S3_BUCKET: this is the location you will be reading and writing from \n",
    "- S3_FILE_IN: this is the input file name you'll use to train your RCF on.   \n",
    "- S3_FILE_OUT: this is the output file name you'll write your CSV file out with. \n",
    "\n",
    "</div>\n"
   ]
  },
  {
   "cell_type": "code",
   "execution_count": 1,
   "id": "d5f63fff",
   "metadata": {},
   "outputs": [
    {
     "data": {
      "text/html": [
       "<style>.container { width:90% }</style>"
      ],
      "text/plain": [
       "<IPython.core.display.HTML object>"
      ]
     },
     "metadata": {},
     "output_type": "display_data"
    }
   ],
   "source": [
    "from IPython.core.display import display, HTML\n",
    "from IPython.display import clear_output\n",
    "display(HTML(\"<style>.container { width:90% }</style>\"))\n",
    "import warnings\n",
    "warnings.filterwarnings('ignore')\n",
    "# ------------------------------------------------------------------\n",
    "\n",
    "# -- common stuff -- \n",
    "import numpy as np\n",
    "import pandas as pd\n",
    "from sklearn.model_selection import train_test_split\n",
    "from sklearn.metrics import precision_score, recall_score\n",
    "import matplotlib.pyplot as plt\n",
    "import seaborn as sns\n",
    "from io import StringIO\n",
    "\n",
    "# -- AWS stuff --- \n",
    "import boto3\n",
    "import botocore\n",
    "import sagemaker\n",
    "import sys\n",
    "\n",
    "role = sagemaker.get_execution_role()\n",
    "# -- need this to render charts in notebook -- \n",
    "%matplotlib inline"
   ]
  },
  {
   "cell_type": "markdown",
   "id": "0a0ef166",
   "metadata": {},
   "source": [
    "## Your Dataset and Location \n",
    "\n",
    "---- \n",
    "\n",
    "My dataset happens to be located in a S3 bucket, yours could be local just change the read_csv to the appropraite location. All we are going to do here is read the file into a panda's dataframe. Then \n",
    "\n",
    "<div class=\"alert alert-info\"> <strong> S3 </strong>\n",
    " \n",
    "- S3_BUCKET : name of the bucket containing the file \n",
    "- S3_FILE_IN   : name of the file you will train your RCF with, often known as the file_ or data_key\n",
    "- S3_FILE_OUT   : name of the file you will create with your new EVENT_LABEL\n",
    "copy and paste the following if you are going this route: \n",
    "\n",
    "</div>\n",
    "\n",
    "```python\n",
    "S3_BUCKET = '2022-data'\n",
    "S3_FILE_IN   = 'rcf_110k.csv'\n",
    "S3_FILE_OUT   = 'rcf_110k_preparedcsv'\n",
    "S3_LOCATION = 's3://{}/{}'.format(S3_BUCKET, S3_FILE_IN)\n",
    "S3_LOCATION_OUT = 's3://{}/{}'.format(S3_BUCKET, S3_FILE_OUT)\n",
    "print(\"input file location: {}\".format(S3_LOCATION))\n",
    "print(\"input file location: {}\".format(S3_LOCATION_OUT))\n",
    "df = pd.read_csv(S3_LOCATION)\n",
    "df.head()\n",
    "\n",
    "````\n",
    "\n",
    "\n",
    "### Dataset Format \n",
    "\n",
    "Assuming we are using Amazon Fraud Detector, your file may or may not contain an EVENT_LABEL but should contain an EVENT_TIMESTAMP. We will be creating an EVENT_LABEL based on the RCF score below. IF you do have an EVENT_LABEL in the data we'll use this to evaluate how well the RCF performs on your sample data. \n"
   ]
  },
  {
   "cell_type": "code",
   "execution_count": 2,
   "id": "0b616ff0",
   "metadata": {},
   "outputs": [
    {
     "name": "stdout",
     "output_type": "stream",
     "text": [
      "input file location: s3://2022-data/rcf_110k.csv\n",
      "input file location: s3://2022-data/rcf_110k_prepared.csv\n"
     ]
    },
    {
     "data": {
      "text/html": [
       "<div>\n",
       "<style scoped>\n",
       "    .dataframe tbody tr th:only-of-type {\n",
       "        vertical-align: middle;\n",
       "    }\n",
       "\n",
       "    .dataframe tbody tr th {\n",
       "        vertical-align: top;\n",
       "    }\n",
       "\n",
       "    .dataframe thead th {\n",
       "        text-align: right;\n",
       "    }\n",
       "</style>\n",
       "<table border=\"1\" class=\"dataframe\">\n",
       "  <thead>\n",
       "    <tr style=\"text-align: right;\">\n",
       "      <th></th>\n",
       "      <th>account_tenure_yrs</th>\n",
       "      <th>normalized_currency_amt</th>\n",
       "      <th>original_currency_amt</th>\n",
       "      <th>currency</th>\n",
       "      <th>EVENT_TIMESTAMP</th>\n",
       "      <th>ip_address</th>\n",
       "      <th>email_address</th>\n",
       "      <th>EVENT_LABEL</th>\n",
       "    </tr>\n",
       "  </thead>\n",
       "  <tbody>\n",
       "    <tr>\n",
       "      <th>0</th>\n",
       "      <td>11.0</td>\n",
       "      <td>38334.0</td>\n",
       "      <td>36466.0</td>\n",
       "      <td>eur</td>\n",
       "      <td>2021-08-14 05:38:58</td>\n",
       "      <td>57.115.15.248</td>\n",
       "      <td>lcarlson@example.org</td>\n",
       "      <td>legit</td>\n",
       "    </tr>\n",
       "    <tr>\n",
       "      <th>1</th>\n",
       "      <td>6.0</td>\n",
       "      <td>50104.0</td>\n",
       "      <td>24775.0</td>\n",
       "      <td>usd</td>\n",
       "      <td>2021-10-21 13:29:39</td>\n",
       "      <td>203.218.41.214</td>\n",
       "      <td>brianfowler@example.org</td>\n",
       "      <td>legit</td>\n",
       "    </tr>\n",
       "    <tr>\n",
       "      <th>2</th>\n",
       "      <td>16.0</td>\n",
       "      <td>21516.0</td>\n",
       "      <td>46364.0</td>\n",
       "      <td>usd</td>\n",
       "      <td>2021-06-18 03:28:47</td>\n",
       "      <td>131.7.35.71</td>\n",
       "      <td>lthomas@example.org</td>\n",
       "      <td>legit</td>\n",
       "    </tr>\n",
       "    <tr>\n",
       "      <th>3</th>\n",
       "      <td>6.0</td>\n",
       "      <td>50446.0</td>\n",
       "      <td>23668.0</td>\n",
       "      <td>usd</td>\n",
       "      <td>2021-05-08 22:44:29</td>\n",
       "      <td>150.245.11.96</td>\n",
       "      <td>victoria20@example.com</td>\n",
       "      <td>legit</td>\n",
       "    </tr>\n",
       "    <tr>\n",
       "      <th>4</th>\n",
       "      <td>10.0</td>\n",
       "      <td>43560.0</td>\n",
       "      <td>32309.0</td>\n",
       "      <td>eur</td>\n",
       "      <td>2021-08-24 00:17:08</td>\n",
       "      <td>155.110.112.38</td>\n",
       "      <td>amandamartinez@example.com</td>\n",
       "      <td>legit</td>\n",
       "    </tr>\n",
       "  </tbody>\n",
       "</table>\n",
       "</div>"
      ],
      "text/plain": [
       "   account_tenure_yrs  normalized_currency_amt  original_currency_amt  \\\n",
       "0                11.0                  38334.0                36466.0   \n",
       "1                 6.0                  50104.0                24775.0   \n",
       "2                16.0                  21516.0                46364.0   \n",
       "3                 6.0                  50446.0                23668.0   \n",
       "4                10.0                  43560.0                32309.0   \n",
       "\n",
       "  currency      EVENT_TIMESTAMP      ip_address               email_address  \\\n",
       "0      eur  2021-08-14 05:38:58   57.115.15.248        lcarlson@example.org   \n",
       "1      usd  2021-10-21 13:29:39  203.218.41.214     brianfowler@example.org   \n",
       "2      usd  2021-06-18 03:28:47     131.7.35.71         lthomas@example.org   \n",
       "3      usd  2021-05-08 22:44:29   150.245.11.96      victoria20@example.com   \n",
       "4      eur  2021-08-24 00:17:08  155.110.112.38  amandamartinez@example.com   \n",
       "\n",
       "  EVENT_LABEL  \n",
       "0       legit  \n",
       "1       legit  \n",
       "2       legit  \n",
       "3       legit  \n",
       "4       legit  "
      ]
     },
     "execution_count": 2,
     "metadata": {},
     "output_type": "execute_result"
    }
   ],
   "source": [
    "S3_BUCKET = '2022-data'\n",
    "S3_FILE_IN   = 'rcf_110k.csv'\n",
    "S3_FILE_OUT   = 'rcf_110k_prepared.csv'\n",
    "S3_LOCATION = 's3://{}/{}'.format(S3_BUCKET, S3_FILE_IN)\n",
    "S3_LOCATION_OUT = 's3://{}/{}'.format(S3_BUCKET, S3_FILE_OUT)\n",
    "print(\"input file location: {}\".format(S3_LOCATION))\n",
    "print(\"input file location: {}\".format(S3_LOCATION_OUT))\n",
    "df = pd.read_csv(S3_LOCATION)\n",
    "df.head()\n"
   ]
  },
  {
   "cell_type": "markdown",
   "id": "f8772a73",
   "metadata": {},
   "source": [
    "## Profile the data. \n",
    "-----\n",
    "\n",
    "The following function simply profiles your data frame and determines which variables shoudl be included and how they should be handled for the RCF."
   ]
  },
  {
   "cell_type": "code",
   "execution_count": 3,
   "id": "1cb1cef2",
   "metadata": {},
   "outputs": [
    {
     "data": {
      "text/html": [
       "<div>\n",
       "<style scoped>\n",
       "    .dataframe tbody tr th:only-of-type {\n",
       "        vertical-align: middle;\n",
       "    }\n",
       "\n",
       "    .dataframe tbody tr th {\n",
       "        vertical-align: top;\n",
       "    }\n",
       "\n",
       "    .dataframe thead th {\n",
       "        text-align: right;\n",
       "    }\n",
       "</style>\n",
       "<table border=\"1\" class=\"dataframe\">\n",
       "  <thead>\n",
       "    <tr style=\"text-align: right;\">\n",
       "      <th></th>\n",
       "      <th>feature_name</th>\n",
       "      <th>dtype</th>\n",
       "      <th>count</th>\n",
       "      <th>nunique</th>\n",
       "      <th>mean</th>\n",
       "      <th>min</th>\n",
       "      <th>max</th>\n",
       "      <th>null</th>\n",
       "      <th>not_null</th>\n",
       "      <th>null_pct</th>\n",
       "      <th>nunique_pct</th>\n",
       "      <th>feature_type</th>\n",
       "      <th>feature_warning</th>\n",
       "    </tr>\n",
       "  </thead>\n",
       "  <tbody>\n",
       "    <tr>\n",
       "      <th>0</th>\n",
       "      <td>account_tenure_yrs</td>\n",
       "      <td>float64</td>\n",
       "      <td>110000</td>\n",
       "      <td>25</td>\n",
       "      <td>11.412</td>\n",
       "      <td>0</td>\n",
       "      <td>24</td>\n",
       "      <td>0</td>\n",
       "      <td>110000</td>\n",
       "      <td>0.0</td>\n",
       "      <td>0.000227</td>\n",
       "      <td>NUMERIC</td>\n",
       "      <td>NO WARNING</td>\n",
       "    </tr>\n",
       "    <tr>\n",
       "      <th>1</th>\n",
       "      <td>normalized_currency_amt</td>\n",
       "      <td>float64</td>\n",
       "      <td>110000</td>\n",
       "      <td>35468</td>\n",
       "      <td>41020.2</td>\n",
       "      <td>100</td>\n",
       "      <td>99999</td>\n",
       "      <td>0</td>\n",
       "      <td>110000</td>\n",
       "      <td>0.0</td>\n",
       "      <td>0.322436</td>\n",
       "      <td>NUMERIC</td>\n",
       "      <td>NO WARNING</td>\n",
       "    </tr>\n",
       "    <tr>\n",
       "      <th>2</th>\n",
       "      <td>original_currency_amt</td>\n",
       "      <td>float64</td>\n",
       "      <td>110000</td>\n",
       "      <td>49692</td>\n",
       "      <td>42961.1</td>\n",
       "      <td>100</td>\n",
       "      <td>99999</td>\n",
       "      <td>0</td>\n",
       "      <td>110000</td>\n",
       "      <td>0.0</td>\n",
       "      <td>0.451745</td>\n",
       "      <td>NUMERIC</td>\n",
       "      <td>NO WARNING</td>\n",
       "    </tr>\n",
       "    <tr>\n",
       "      <th>3</th>\n",
       "      <td>currency</td>\n",
       "      <td>object</td>\n",
       "      <td>110000</td>\n",
       "      <td>3</td>\n",
       "      <td>NaN</td>\n",
       "      <td>cad</td>\n",
       "      <td>usd</td>\n",
       "      <td>0</td>\n",
       "      <td>110000</td>\n",
       "      <td>0.0</td>\n",
       "      <td>0.000027</td>\n",
       "      <td>CATEGORY</td>\n",
       "      <td>NO WARNING</td>\n",
       "    </tr>\n",
       "    <tr>\n",
       "      <th>4</th>\n",
       "      <td>EVENT_TIMESTAMP</td>\n",
       "      <td>object</td>\n",
       "      <td>110000</td>\n",
       "      <td>109800</td>\n",
       "      <td>NaN</td>\n",
       "      <td>2021-04-13 03:45:59</td>\n",
       "      <td>2022-04-13 09:28:40</td>\n",
       "      <td>0</td>\n",
       "      <td>110000</td>\n",
       "      <td>0.0</td>\n",
       "      <td>0.998182</td>\n",
       "      <td>EVENT_TIMESTAMP</td>\n",
       "      <td>EXCLUDE, GT 70% UNIQUE</td>\n",
       "    </tr>\n",
       "    <tr>\n",
       "      <th>5</th>\n",
       "      <td>ip_address</td>\n",
       "      <td>object</td>\n",
       "      <td>110000</td>\n",
       "      <td>109999</td>\n",
       "      <td>NaN</td>\n",
       "      <td>1.1.25.108</td>\n",
       "      <td>99.94.90.205</td>\n",
       "      <td>0</td>\n",
       "      <td>110000</td>\n",
       "      <td>0.0</td>\n",
       "      <td>0.999991</td>\n",
       "      <td>IGNORE</td>\n",
       "      <td>EXCLUDE, GT 70% UNIQUE</td>\n",
       "    </tr>\n",
       "    <tr>\n",
       "      <th>6</th>\n",
       "      <td>email_address</td>\n",
       "      <td>object</td>\n",
       "      <td>110000</td>\n",
       "      <td>93435</td>\n",
       "      <td>NaN</td>\n",
       "      <td>aabbott@example.com</td>\n",
       "      <td>zzimmerman@example.com</td>\n",
       "      <td>0</td>\n",
       "      <td>110000</td>\n",
       "      <td>0.0</td>\n",
       "      <td>0.849409</td>\n",
       "      <td>IGNORE</td>\n",
       "      <td>EXCLUDE, GT 70% UNIQUE</td>\n",
       "    </tr>\n",
       "    <tr>\n",
       "      <th>7</th>\n",
       "      <td>EVENT_LABEL</td>\n",
       "      <td>object</td>\n",
       "      <td>110000</td>\n",
       "      <td>2</td>\n",
       "      <td>NaN</td>\n",
       "      <td>fraud</td>\n",
       "      <td>legit</td>\n",
       "      <td>0</td>\n",
       "      <td>110000</td>\n",
       "      <td>0.0</td>\n",
       "      <td>0.000018</td>\n",
       "      <td>TARGET</td>\n",
       "      <td>TARGET VARIABLE</td>\n",
       "    </tr>\n",
       "  </tbody>\n",
       "</table>\n",
       "</div>"
      ],
      "text/plain": [
       "              feature_name    dtype   count  nunique     mean  \\\n",
       "0       account_tenure_yrs  float64  110000       25   11.412   \n",
       "1  normalized_currency_amt  float64  110000    35468  41020.2   \n",
       "2    original_currency_amt  float64  110000    49692  42961.1   \n",
       "3                 currency   object  110000        3      NaN   \n",
       "4          EVENT_TIMESTAMP   object  110000   109800      NaN   \n",
       "5               ip_address   object  110000   109999      NaN   \n",
       "6            email_address   object  110000    93435      NaN   \n",
       "7              EVENT_LABEL   object  110000        2      NaN   \n",
       "\n",
       "                   min                     max  null  not_null  null_pct  \\\n",
       "0                    0                      24     0    110000       0.0   \n",
       "1                  100                   99999     0    110000       0.0   \n",
       "2                  100                   99999     0    110000       0.0   \n",
       "3                  cad                     usd     0    110000       0.0   \n",
       "4  2021-04-13 03:45:59     2022-04-13 09:28:40     0    110000       0.0   \n",
       "5           1.1.25.108            99.94.90.205     0    110000       0.0   \n",
       "6  aabbott@example.com  zzimmerman@example.com     0    110000       0.0   \n",
       "7                fraud                   legit     0    110000       0.0   \n",
       "\n",
       "   nunique_pct     feature_type         feature_warning  \n",
       "0     0.000227          NUMERIC              NO WARNING  \n",
       "1     0.322436          NUMERIC              NO WARNING  \n",
       "2     0.451745          NUMERIC              NO WARNING  \n",
       "3     0.000027         CATEGORY              NO WARNING  \n",
       "4     0.998182  EVENT_TIMESTAMP  EXCLUDE, GT 70% UNIQUE  \n",
       "5     0.999991           IGNORE  EXCLUDE, GT 70% UNIQUE  \n",
       "6     0.849409           IGNORE  EXCLUDE, GT 70% UNIQUE  \n",
       "7     0.000018           TARGET         TARGET VARIABLE  "
      ]
     },
     "execution_count": 3,
     "metadata": {},
     "output_type": "execute_result"
    }
   ],
   "source": [
    "def df_profile(df):\n",
    "    \n",
    "    df = df.copy()\n",
    "    \n",
    "    numeric_features = [ c for c in df.select_dtypes(include = np.number).columns ]\n",
    "    \n",
    "    categorical_features = [ c for c in df.select_dtypes(include = np.object).columns ]\n",
    "   \n",
    "    rowcnt = len(df)\n",
    "    df_s1  = df.agg(['count', 'nunique','mean','min','max']).transpose().reset_index().rename(columns={\"index\":\"feature_name\"}).round(4)\n",
    "    df_s1['count'] = df_s1['count'].astype('int64')\n",
    "    df_s1['nunique'] = df_s1['nunique'].astype('int64')\n",
    "    df_s1[\"null\"] = (rowcnt - df_s1[\"count\"]).astype('int64')\n",
    "    df_s1[\"not_null\"] = rowcnt - df_s1[\"null\"]\n",
    "    df_s1[\"null_pct\"] = df_s1[\"null\"] / rowcnt\n",
    "    df_s1[\"nunique_pct\"] = df_s1['nunique'] / rowcnt\n",
    "    dt = pd.DataFrame(df.dtypes).reset_index().rename(columns={\"index\":\"feature_name\", 0:\"dtype\"})\n",
    "    df_stats = pd.merge(dt, df_s1, on='feature_name', how='inner')\n",
    "\n",
    "    df_stats = df_stats.sort_values(\"dtype\").reset_index(drop=True)\n",
    "    # -- part 2 \n",
    "    df_stats['feature_type'] = \"IGNORE\"\n",
    "    df_stats.loc[(df_stats[\"dtype\"] == object) & (df_stats[\"nunique\"] <= 32), 'feature_type'] = \"CATEGORY\"\n",
    "    df_stats.loc[(df_stats[\"dtype\"] == \"int64\") | (df_stats[\"dtype\"] == \"float64\"), 'feature_type'] = \"NUMERIC\"\n",
    "    # df_stats.loc[df_stats[\"dtype\"] == \"float64\", 'feature_type'] = \"NUMERIC\"\n",
    "    df_stats.loc[df_stats[\"feature_name\"] == \"EVENT_LABEL\", 'feature_type'] = \"TARGET\"\n",
    "    df_stats.loc[df_stats[\"feature_name\"] == \"EVENT_TIMESTAMP\", 'feature_type'] = \"EVENT_TIMESTAMP\"\n",
    "    \n",
    "    \n",
    "    # -- part 3 \n",
    "    df_stats['feature_warning'] = \"NO WARNING\"\n",
    "    df_stats.loc[df_stats[\"nunique_pct\"] > 0.7,'feature_warning' ] = \"EXCLUDE, GT 70% UNIQUE\"\n",
    "    df_stats.loc[(df_stats[\"null_pct\"] > 0.2) & (df_stats[\"null_pct\"] <= 0.5), 'feature_warning' ] = \"NULL WARNING, GT 20% MISSING\"\n",
    "    df_stats.loc[df_stats[\"null_pct\"] > 0.5,'feature_warning' ] = \"EXCLUDE, GT 50% MISSING\"\n",
    "    #if null_pct > 0.2 then feature_warning = \"NULL WARNING, GT 20% MISSING\"\n",
    "    df_stats.loc[((df_stats['dtype'] == \"int64\" ) | (df_stats['dtype'] == \"float64\" ) ) & (df_stats['nunique'] < 0.2), 'feature_warning' ] = \"LIKELY CATEGORICAL, NUMERIC w. LOW CARDINALITY\"\n",
    "    #df_stats.loc[((df_stats['dtype'] == \"int64\" ) | (df_stats['dtype'] == \"float64\" ) ) & (df_stats['nunique'] < 0.2), 'feature_warning' ] = \"LIKELY CATEGORICAL, NUMERIC w. LOW CARDINALITY\"\n",
    "    df_stats.loc[df_stats[\"feature_name\"] == \"EVENT_LABEL\",'feature_warning' ] = \"TARGET VARIABLE\"\n",
    "    return df_stats\n",
    "\n",
    "df_stats = df_profile(df)\n",
    "df_stats\n"
   ]
  },
  {
   "cell_type": "markdown",
   "id": "5904c728",
   "metadata": {},
   "source": [
    "## Data Transformation \n",
    "-----\n",
    "RCF only works on numeric data so we are going to identify which variables we want to use based on the profile and how we'll handle nulls and categorical variables. You can ooptionally overwrite the selection.\n",
    "\n",
    "- numeric variables with null values will be replaced with -1 \n",
    "- categorical variables with null values will be replaced with \"UNKNOWN\"\n",
    "- categorical variables will be dummy encoded for simplicy\n",
    "\n",
    "> Note: only categories with fewer than 32 levels are included, there are of course several other transformations we could perform but this will get the ball rolling!\n",
    "\n",
    "----\n",
    "If you want to include or exclude varaibles in the detection simply specify the variable names in a list like this \n",
    "\n",
    "```python\n",
    "\n",
    "numeric_features = ['account_tenure_yrs', 'normalized_currency_amt', 'original_currency_amt']\n",
    "categorical_features = ['currency']\n",
    "\n",
    "```\n",
    "\n",
    "finally, we are going to check your file to see if it contains an EVENT label if it does pleas identity the \"fraud\" label, we'll perserve the frauds and use them to assess your RCF model"
   ]
  },
  {
   "cell_type": "code",
   "execution_count": 4,
   "id": "a80c48ae",
   "metadata": {},
   "outputs": [
    {
     "data": {
      "text/plain": [
       "['account_tenure_yrs', 'normalized_currency_amt', 'original_currency_amt']"
      ]
     },
     "execution_count": 4,
     "metadata": {},
     "output_type": "execute_result"
    }
   ],
   "source": [
    "numeric_features = df_stats[df_stats[\"feature_type\"] == \"NUMERIC\"][\"feature_name\"].tolist()\n",
    "numeric_features"
   ]
  },
  {
   "cell_type": "code",
   "execution_count": 5,
   "id": "7c813196",
   "metadata": {},
   "outputs": [
    {
     "data": {
      "text/plain": [
       "['currency']"
      ]
     },
     "execution_count": 5,
     "metadata": {},
     "output_type": "execute_result"
    }
   ],
   "source": [
    "categorical_features = df_stats[df_stats[\"feature_type\"] == \"CATEGORY\"][\"feature_name\"].tolist()\n",
    "categorical_features"
   ]
  },
  {
   "cell_type": "code",
   "execution_count": 6,
   "id": "fcca3237",
   "metadata": {},
   "outputs": [
    {
     "name": "stdout",
     "output_type": "stream",
     "text": [
      "your dataset does contain EVENT_LABEL, we can perserve your labeled events below\n"
     ]
    }
   ],
   "source": [
    "event_label_ind = df_stats.query('feature_name == \"EVENT_LABEL\"').shape[0]\n",
    "if event_label_ind == 0:\n",
    "    print(\"your dataset doesn't contain a EVENT_LABEL, no problem this will create one for you\")\n",
    "if event_label_ind == 1:\n",
    "    print(\"your dataset does contain EVENT_LABEL, we can perserve your labeled events below\")"
   ]
  },
  {
   "cell_type": "code",
   "execution_count": 7,
   "id": "3022e04b",
   "metadata": {},
   "outputs": [],
   "source": [
    "# -- define your fraud label IF you have an EVENT_LABEL!\n",
    "FRAUD_LABEL = \"fraud\""
   ]
  },
  {
   "cell_type": "markdown",
   "id": "16141f5f",
   "metadata": {},
   "source": [
    "## Prepare Data \n",
    "\n",
    "RandomCutForest only deals with numeric data that has no missing values, so we have to deal with missing values and have to dummy encode categories easy way to do this is using panda's get_dummies. \n",
    "\n",
    "---- \n",
    "\n",
    "```python\n",
    "df = pd.get_dummies(df,columns=['currency'])\n",
    "```\n",
    "\n",
    "finally we are going to split the data into a training and test split. "
   ]
  },
  {
   "cell_type": "code",
   "execution_count": 8,
   "id": "b225c526",
   "metadata": {},
   "outputs": [
    {
     "data": {
      "text/html": [
       "<div>\n",
       "<style scoped>\n",
       "    .dataframe tbody tr th:only-of-type {\n",
       "        vertical-align: middle;\n",
       "    }\n",
       "\n",
       "    .dataframe tbody tr th {\n",
       "        vertical-align: top;\n",
       "    }\n",
       "\n",
       "    .dataframe thead th {\n",
       "        text-align: right;\n",
       "    }\n",
       "</style>\n",
       "<table border=\"1\" class=\"dataframe\">\n",
       "  <thead>\n",
       "    <tr style=\"text-align: right;\">\n",
       "      <th></th>\n",
       "      <th>EVENT_LABEL</th>\n",
       "      <th>account_tenure_yrs</th>\n",
       "      <th>normalized_currency_amt</th>\n",
       "      <th>original_currency_amt</th>\n",
       "      <th>currency_cad</th>\n",
       "      <th>currency_eur</th>\n",
       "      <th>currency_usd</th>\n",
       "    </tr>\n",
       "  </thead>\n",
       "  <tbody>\n",
       "    <tr>\n",
       "      <th>0</th>\n",
       "      <td>legit</td>\n",
       "      <td>11.0</td>\n",
       "      <td>38334.0</td>\n",
       "      <td>36466.0</td>\n",
       "      <td>0</td>\n",
       "      <td>1</td>\n",
       "      <td>0</td>\n",
       "    </tr>\n",
       "    <tr>\n",
       "      <th>1</th>\n",
       "      <td>legit</td>\n",
       "      <td>6.0</td>\n",
       "      <td>50104.0</td>\n",
       "      <td>24775.0</td>\n",
       "      <td>0</td>\n",
       "      <td>0</td>\n",
       "      <td>1</td>\n",
       "    </tr>\n",
       "    <tr>\n",
       "      <th>2</th>\n",
       "      <td>legit</td>\n",
       "      <td>16.0</td>\n",
       "      <td>21516.0</td>\n",
       "      <td>46364.0</td>\n",
       "      <td>0</td>\n",
       "      <td>0</td>\n",
       "      <td>1</td>\n",
       "    </tr>\n",
       "    <tr>\n",
       "      <th>3</th>\n",
       "      <td>legit</td>\n",
       "      <td>6.0</td>\n",
       "      <td>50446.0</td>\n",
       "      <td>23668.0</td>\n",
       "      <td>0</td>\n",
       "      <td>0</td>\n",
       "      <td>1</td>\n",
       "    </tr>\n",
       "    <tr>\n",
       "      <th>4</th>\n",
       "      <td>legit</td>\n",
       "      <td>10.0</td>\n",
       "      <td>43560.0</td>\n",
       "      <td>32309.0</td>\n",
       "      <td>0</td>\n",
       "      <td>1</td>\n",
       "      <td>0</td>\n",
       "    </tr>\n",
       "  </tbody>\n",
       "</table>\n",
       "</div>"
      ],
      "text/plain": [
       "  EVENT_LABEL  account_tenure_yrs  normalized_currency_amt  \\\n",
       "0       legit                11.0                  38334.0   \n",
       "1       legit                 6.0                  50104.0   \n",
       "2       legit                16.0                  21516.0   \n",
       "3       legit                 6.0                  50446.0   \n",
       "4       legit                10.0                  43560.0   \n",
       "\n",
       "   original_currency_amt  currency_cad  currency_eur  currency_usd  \n",
       "0                36466.0             0             1             0  \n",
       "1                24775.0             0             0             1  \n",
       "2                46364.0             0             0             1  \n",
       "3                23668.0             0             0             1  \n",
       "4                32309.0             0             1             0  "
      ]
     },
     "execution_count": 8,
     "metadata": {},
     "output_type": "execute_result"
    }
   ],
   "source": [
    "def prep_dataset(df):\n",
    "    df = df.copy()\n",
    "    df[numeric_features] = df[numeric_features].fillna(-1)\n",
    "    df[categorical_features] = df[categorical_features].fillna(\"UNKNOWN\")\n",
    "   \n",
    "    if event_label_ind == 0:\n",
    "        df_prep = pd.get_dummies(df[numeric_features + categorical_features ], columns=categorical_features)\n",
    "    if event_label_ind == 1:\n",
    "        df_prep = pd.get_dummies(df[[\"EVENT_LABEL\"] + numeric_features + categorical_features ], columns=categorical_features)\n",
    "\n",
    "    return df_prep\n",
    "\n",
    "df_prep = prep_dataset(df)\n",
    "df_prep.head()"
   ]
  },
  {
   "cell_type": "markdown",
   "id": "90c4e80f",
   "metadata": {},
   "source": [
    "### Review training features\n",
    "-----\n",
    "Before kicking off training, lets double check our input features! \n",
    "\n",
    "you can override the feature selection using the following \n",
    "\n",
    "```python\n",
    "training_features = ['account_tenure_yrs', 'normalized_currency_amt', 'original_currency_amt', 'currency_cad']\n",
    "\n",
    "```\n"
   ]
  },
  {
   "cell_type": "code",
   "execution_count": 9,
   "id": "c586643d",
   "metadata": {},
   "outputs": [
    {
     "name": "stdout",
     "output_type": "stream",
     "text": [
      "training input features: \n",
      "['account_tenure_yrs', 'normalized_currency_amt', 'original_currency_amt', 'currency_cad', 'currency_eur', 'currency_usd']\n",
      "number input features: 6\n"
     ]
    }
   ],
   "source": [
    "# this will set the input features for training. \n",
    "excluded_features = [\"EVENT_LABEL\",\"EVENT_TIMESTAMP\"]\n",
    "training_features  = [item for item in df_prep.columns if item not in excluded_features]\n",
    "print(\"training input features: \\n{}\".format(training_features))\n",
    "\n",
    "# feature count will give us the dimensionality of our numpy array. \n",
    "feature_count = df_prep.shape[1] - 1\n",
    "print(\"number input features: {}\".format(feature_count))"
   ]
  },
  {
   "cell_type": "markdown",
   "id": "c1d7cf3f",
   "metadata": {},
   "source": [
    "### Write Training data to S3\n",
    "\n",
    "---- \n",
    "\n",
    "here we are going to write our prepared data to S3"
   ]
  },
  {
   "cell_type": "code",
   "execution_count": 10,
   "id": "00f1334c",
   "metadata": {},
   "outputs": [
    {
     "name": "stdout",
     "output_type": "stream",
     "text": [
      "number of train instances : 110000 \n",
      "writing train to s3 bucket: 2022-data\n",
      "{'ResponseMetadata': {'RequestId': '0CVGZ9RWZSSZ5WVE', 'HostId': '1Yfop3XoPjwliiPNKyHXWuF1/NVe3KLiy1gM1Jjkvro/LtIUwJbXnxpOM9Rjpylvg1U0TB5ktLc=', 'HTTPStatusCode': 200, 'HTTPHeaders': {'x-amz-id-2': '1Yfop3XoPjwliiPNKyHXWuF1/NVe3KLiy1gM1Jjkvro/LtIUwJbXnxpOM9Rjpylvg1U0TB5ktLc=', 'x-amz-request-id': '0CVGZ9RWZSSZ5WVE', 'date': 'Fri, 22 Apr 2022 16:10:30 GMT', 'etag': '\"7ae319dfd63ec736ba62cbe94acd311a\"', 'server': 'AmazonS3', 'content-length': '0'}, 'RetryAttempts': 0}, 'ETag': '\"7ae319dfd63ec736ba62cbe94acd311a\"'}\n",
      "\n"
     ]
    }
   ],
   "source": [
    "\n",
    "print(\"number of train instances : {} \".format(df_prep.shape[0] ))\n",
    "# upload train and test to S3 \n",
    "s3 = boto3.client(\"s3\")\n",
    "csv_buf = StringIO()\n",
    "# -- write training data set to S3\n",
    "train_key = 'rcf_train.csv'\n",
    "df.to_csv(csv_buf, header=True, index=False)\n",
    "csv_buf.seek(0)\n",
    "resp = s3.put_object(Bucket=S3_BUCKET, Body=csv_buf.getvalue(), Key=train_key)\n",
    "print(\"writing train to s3 bucket: {}\".format(S3_BUCKET))\n",
    "print(\"{}\\n\".format(resp))\n"
   ]
  },
  {
   "cell_type": "markdown",
   "id": "c8c8efbe",
   "metadata": {},
   "source": [
    "## Train your RandomCutForest \n",
    "\n",
    "The following will kick off a fit of RandomCutForest \n",
    "you can tinker with the following parameters \n",
    "\n",
    "num_samples_per_tree - this is the number of samples used to train each tree if there is little variation in the data 512 is fine, larger for more variation.  \n",
    "\n",
    "\n",
    "- num_trees - number of randomly constructed trees. Increasing num_trees has the effect of reducing the noise observed in anomaly scores since the final score is the average of the scores reported by each tree. It is recommend to start with 100 trees as a balance between score noise and model complexity. \n",
    "\n",
    "- num_samples_per_tree - this is the number of samples used to train each tree. num_samples_per_tree is related to the '''expected density''' of anomalies in the dataset. In particular, num_samples_per_tree should be chosen such that 1/num_samples_per_tree approximates the ratio of anomalous data to normal data. For example, if 256 samples are used in each tree then we expect our data to contain anomalies 1/256 or approximately 0.4% of the time. Again, an optimal value for this hyperparameter is dependent on the application.\n",
    "\n",
    "\n",
    "NOTE: RandomCutForest takes a numpy array as training data, so you'll want to convert to an array and reshape the array to number of records (-1) and width of numeric columns (3) for this dataset. if you add dummies for currency for example you'll have 3 currencies of 0s and 1s. \n",
    "\n"
   ]
  },
  {
   "cell_type": "code",
   "execution_count": 11,
   "id": "43f618e0",
   "metadata": {},
   "outputs": [
    {
     "name": "stderr",
     "output_type": "stream",
     "text": [
      "Defaulting to the only supported framework/algorithm version: 1. Ignoring framework/algorithm version: 1.\n",
      "Defaulting to the only supported framework/algorithm version: 1. Ignoring framework/algorithm version: 1.\n"
     ]
    },
    {
     "name": "stdout",
     "output_type": "stream",
     "text": [
      "2022-04-22 16:10:31 Starting - Starting the training job...\n",
      "2022-04-22 16:10:57 Starting - Preparing the instances for trainingProfilerReport-1650643831: InProgress\n",
      ".........\n",
      "2022-04-22 16:12:16 Downloading - Downloading input data...\n",
      "2022-04-22 16:12:55 Training - Downloading the training image.....\u001b[34mDocker entrypoint called with argument(s): train\u001b[0m\n",
      "\u001b[34mRunning default environment configuration script\u001b[0m\n",
      "\u001b[34m[04/22/2022 16:13:45 INFO 139818605459264 integration.py:636] worker started\u001b[0m\n",
      "\u001b[34m[04/22/2022 16:13:45 INFO 139818605459264] Reading default configuration from /opt/amazon/lib/python3.7/site-packages/algorithm/resources/default-conf.json: {'num_samples_per_tree': 256, 'num_trees': 100, 'force_dense': 'true', 'eval_metrics': ['accuracy', 'precision_recall_fscore'], 'epochs': 1, 'mini_batch_size': 1000, '_log_level': 'info', '_kvstore': 'dist_async', '_num_kv_servers': 'auto', '_num_gpus': 'auto', '_tuning_objective_metric': '', '_ftp_port': 8999}\u001b[0m\n",
      "\u001b[34m[04/22/2022 16:13:45 INFO 139818605459264] Merging with provided configuration from /opt/ml/input/config/hyperparameters.json: {'feature_dim': '6', 'mini_batch_size': '1000', 'num_samples_per_tree': '512', 'num_trees': '100'}\u001b[0m\n",
      "\u001b[34m[04/22/2022 16:13:45 INFO 139818605459264] Final configuration: {'num_samples_per_tree': '512', 'num_trees': '100', 'force_dense': 'true', 'eval_metrics': ['accuracy', 'precision_recall_fscore'], 'epochs': 1, 'mini_batch_size': '1000', '_log_level': 'info', '_kvstore': 'dist_async', '_num_kv_servers': 'auto', '_num_gpus': 'auto', '_tuning_objective_metric': '', '_ftp_port': 8999, 'feature_dim': '6'}\u001b[0m\n",
      "\u001b[34m[04/22/2022 16:13:45 WARNING 139818605459264] Loggers have already been setup.\u001b[0m\n",
      "\u001b[34m[04/22/2022 16:13:45 INFO 139818605459264] Launching parameter server for role scheduler\u001b[0m\n",
      "\u001b[34m[04/22/2022 16:13:45 INFO 139818605459264] {'ENVROOT': '/opt/amazon', 'PROTOCOL_BUFFERS_PYTHON_IMPLEMENTATION': 'cpp', 'HOSTNAME': 'ip-10-0-162-146.us-west-2.compute.internal', 'TRAINING_JOB_NAME': 'randomcutforest-2022-04-22-16-10-31-357', 'NVIDIA_REQUIRE_CUDA': 'cuda>=9.0', 'TRAINING_JOB_ARN': 'arn:aws:sagemaker:us-west-2:304243717290:training-job/randomcutforest-2022-04-22-16-10-31-357', 'AWS_CONTAINER_CREDENTIALS_RELATIVE_URI': '/v2/credentials/proxy-2463e94afb1130f1de3e620b412d76241caf9081d4bb6cf1ae78a70d25fc6419-customer', 'CANONICAL_ENVROOT': '/opt/amazon', 'PYTHONUNBUFFERED': 'TRUE', 'NVIDIA_VISIBLE_DEVICES': 'all', 'LD_LIBRARY_PATH': '/opt/amazon/lib/python3.7/site-packages/cv2/../../../../lib:/usr/local/nvidia/lib64:/opt/amazon/lib', 'MXNET_KVSTORE_BIGARRAY_BOUND': '400000000', 'NVIDIA_DRIVER_CAPABILITIES': 'compute,utility', 'PATH': '/opt/amazon/bin:/usr/local/nvidia/bin:/usr/local/sbin:/usr/local/bin:/usr/sbin:/usr/bin:/sbin:/bin', 'PWD': '/', 'LANG': 'en_US.utf8', 'AWS_REGION': 'us-west-2', 'SAGEMAKER_METRICS_DIRECTORY': '/opt/ml/output/metrics/sagemaker', 'HOME': '/root', 'SHLVL': '1', 'PROTOCOL_BUFFERS_PYTHON_IMPLEMENTATION_VERSION': '2', 'OMP_NUM_THREADS': '2', 'DMLC_INTERFACE': 'eth0', 'SAGEMAKER_HTTP_PORT': '8080', 'SAGEMAKER_DATA_PATH': '/opt/ml', 'KMP_DUPLICATE_LIB_OK': 'True', 'KMP_INIT_AT_FORK': 'FALSE'}\u001b[0m\n",
      "\u001b[34m[04/22/2022 16:13:45 INFO 139818605459264] envs={'ENVROOT': '/opt/amazon', 'PROTOCOL_BUFFERS_PYTHON_IMPLEMENTATION': 'cpp', 'HOSTNAME': 'ip-10-0-162-146.us-west-2.compute.internal', 'TRAINING_JOB_NAME': 'randomcutforest-2022-04-22-16-10-31-357', 'NVIDIA_REQUIRE_CUDA': 'cuda>=9.0', 'TRAINING_JOB_ARN': 'arn:aws:sagemaker:us-west-2:304243717290:training-job/randomcutforest-2022-04-22-16-10-31-357', 'AWS_CONTAINER_CREDENTIALS_RELATIVE_URI': '/v2/credentials/proxy-2463e94afb1130f1de3e620b412d76241caf9081d4bb6cf1ae78a70d25fc6419-customer', 'CANONICAL_ENVROOT': '/opt/amazon', 'PYTHONUNBUFFERED': 'TRUE', 'NVIDIA_VISIBLE_DEVICES': 'all', 'LD_LIBRARY_PATH': '/opt/amazon/lib/python3.7/site-packages/cv2/../../../../lib:/usr/local/nvidia/lib64:/opt/amazon/lib', 'MXNET_KVSTORE_BIGARRAY_BOUND': '400000000', 'NVIDIA_DRIVER_CAPABILITIES': 'compute,utility', 'PATH': '/opt/amazon/bin:/usr/local/nvidia/bin:/usr/local/sbin:/usr/local/bin:/usr/sbin:/usr/bin:/sbin:/bin', 'PWD': '/', 'LANG': 'en_US.utf8', 'AWS_REGION': 'us-west-2', 'SAGEMAKER_METRICS_DIRECTORY': '/opt/ml/output/metrics/sagemaker', 'HOME': '/root', 'SHLVL': '1', 'PROTOCOL_BUFFERS_PYTHON_IMPLEMENTATION_VERSION': '2', 'OMP_NUM_THREADS': '2', 'DMLC_INTERFACE': 'eth0', 'SAGEMAKER_HTTP_PORT': '8080', 'SAGEMAKER_DATA_PATH': '/opt/ml', 'KMP_DUPLICATE_LIB_OK': 'True', 'KMP_INIT_AT_FORK': 'FALSE', 'DMLC_ROLE': 'scheduler', 'DMLC_PS_ROOT_URI': '10.0.162.146', 'DMLC_PS_ROOT_PORT': '9000', 'DMLC_NUM_SERVER': '1', 'DMLC_NUM_WORKER': '1'}\u001b[0m\n",
      "\u001b[34m[04/22/2022 16:13:45 INFO 139818605459264] Launching parameter server for role server\u001b[0m\n",
      "\u001b[34m[04/22/2022 16:13:45 INFO 139818605459264] {'ENVROOT': '/opt/amazon', 'PROTOCOL_BUFFERS_PYTHON_IMPLEMENTATION': 'cpp', 'HOSTNAME': 'ip-10-0-162-146.us-west-2.compute.internal', 'TRAINING_JOB_NAME': 'randomcutforest-2022-04-22-16-10-31-357', 'NVIDIA_REQUIRE_CUDA': 'cuda>=9.0', 'TRAINING_JOB_ARN': 'arn:aws:sagemaker:us-west-2:304243717290:training-job/randomcutforest-2022-04-22-16-10-31-357', 'AWS_CONTAINER_CREDENTIALS_RELATIVE_URI': '/v2/credentials/proxy-2463e94afb1130f1de3e620b412d76241caf9081d4bb6cf1ae78a70d25fc6419-customer', 'CANONICAL_ENVROOT': '/opt/amazon', 'PYTHONUNBUFFERED': 'TRUE', 'NVIDIA_VISIBLE_DEVICES': 'all', 'LD_LIBRARY_PATH': '/opt/amazon/lib/python3.7/site-packages/cv2/../../../../lib:/usr/local/nvidia/lib64:/opt/amazon/lib', 'MXNET_KVSTORE_BIGARRAY_BOUND': '400000000', 'NVIDIA_DRIVER_CAPABILITIES': 'compute,utility', 'PATH': '/opt/amazon/bin:/usr/local/nvidia/bin:/usr/local/sbin:/usr/local/bin:/usr/sbin:/usr/bin:/sbin:/bin', 'PWD': '/', 'LANG': 'en_US.utf8', 'AWS_REGION': 'us-west-2', 'SAGEMAKER_METRICS_DIRECTORY': '/opt/ml/output/metrics/sagemaker', 'HOME': '/root', 'SHLVL': '1', 'PROTOCOL_BUFFERS_PYTHON_IMPLEMENTATION_VERSION': '2', 'OMP_NUM_THREADS': '2', 'DMLC_INTERFACE': 'eth0', 'SAGEMAKER_HTTP_PORT': '8080', 'SAGEMAKER_DATA_PATH': '/opt/ml', 'KMP_DUPLICATE_LIB_OK': 'True', 'KMP_INIT_AT_FORK': 'FALSE'}\u001b[0m\n",
      "\u001b[34m[04/22/2022 16:13:45 INFO 139818605459264] envs={'ENVROOT': '/opt/amazon', 'PROTOCOL_BUFFERS_PYTHON_IMPLEMENTATION': 'cpp', 'HOSTNAME': 'ip-10-0-162-146.us-west-2.compute.internal', 'TRAINING_JOB_NAME': 'randomcutforest-2022-04-22-16-10-31-357', 'NVIDIA_REQUIRE_CUDA': 'cuda>=9.0', 'TRAINING_JOB_ARN': 'arn:aws:sagemaker:us-west-2:304243717290:training-job/randomcutforest-2022-04-22-16-10-31-357', 'AWS_CONTAINER_CREDENTIALS_RELATIVE_URI': '/v2/credentials/proxy-2463e94afb1130f1de3e620b412d76241caf9081d4bb6cf1ae78a70d25fc6419-customer', 'CANONICAL_ENVROOT': '/opt/amazon', 'PYTHONUNBUFFERED': 'TRUE', 'NVIDIA_VISIBLE_DEVICES': 'all', 'LD_LIBRARY_PATH': '/opt/amazon/lib/python3.7/site-packages/cv2/../../../../lib:/usr/local/nvidia/lib64:/opt/amazon/lib', 'MXNET_KVSTORE_BIGARRAY_BOUND': '400000000', 'NVIDIA_DRIVER_CAPABILITIES': 'compute,utility', 'PATH': '/opt/amazon/bin:/usr/local/nvidia/bin:/usr/local/sbin:/usr/local/bin:/usr/sbin:/usr/bin:/sbin:/bin', 'PWD': '/', 'LANG': 'en_US.utf8', 'AWS_REGION': 'us-west-2', 'SAGEMAKER_METRICS_DIRECTORY': '/opt/ml/output/metrics/sagemaker', 'HOME': '/root', 'SHLVL': '1', 'PROTOCOL_BUFFERS_PYTHON_IMPLEMENTATION_VERSION': '2', 'OMP_NUM_THREADS': '2', 'DMLC_INTERFACE': 'eth0', 'SAGEMAKER_HTTP_PORT': '8080', 'SAGEMAKER_DATA_PATH': '/opt/ml', 'KMP_DUPLICATE_LIB_OK': 'True', 'KMP_INIT_AT_FORK': 'FALSE', 'DMLC_ROLE': 'server', 'DMLC_PS_ROOT_URI': '10.0.162.146', 'DMLC_PS_ROOT_PORT': '9000', 'DMLC_NUM_SERVER': '1', 'DMLC_NUM_WORKER': '1'}\u001b[0m\n",
      "\u001b[34m[04/22/2022 16:13:45 INFO 139818605459264] Environment: {'ENVROOT': '/opt/amazon', 'PROTOCOL_BUFFERS_PYTHON_IMPLEMENTATION': 'cpp', 'HOSTNAME': 'ip-10-0-162-146.us-west-2.compute.internal', 'TRAINING_JOB_NAME': 'randomcutforest-2022-04-22-16-10-31-357', 'NVIDIA_REQUIRE_CUDA': 'cuda>=9.0', 'TRAINING_JOB_ARN': 'arn:aws:sagemaker:us-west-2:304243717290:training-job/randomcutforest-2022-04-22-16-10-31-357', 'AWS_CONTAINER_CREDENTIALS_RELATIVE_URI': '/v2/credentials/proxy-2463e94afb1130f1de3e620b412d76241caf9081d4bb6cf1ae78a70d25fc6419-customer', 'CANONICAL_ENVROOT': '/opt/amazon', 'PYTHONUNBUFFERED': 'TRUE', 'NVIDIA_VISIBLE_DEVICES': 'all', 'LD_LIBRARY_PATH': '/opt/amazon/lib/python3.7/site-packages/cv2/../../../../lib:/usr/local/nvidia/lib64:/opt/amazon/lib', 'MXNET_KVSTORE_BIGARRAY_BOUND': '400000000', 'NVIDIA_DRIVER_CAPABILITIES': 'compute,utility', 'PATH': '/opt/amazon/bin:/usr/local/nvidia/bin:/usr/local/sbin:/usr/local/bin:/usr/sbin:/usr/bin:/sbin:/bin', 'PWD': '/', 'LANG': 'en_US.utf8', 'AWS_REGION': 'us-west-2', 'SAGEMAKER_METRICS_DIRECTORY': '/opt/ml/output/metrics/sagemaker', 'HOME': '/root', 'SHLVL': '1', 'PROTOCOL_BUFFERS_PYTHON_IMPLEMENTATION_VERSION': '2', 'OMP_NUM_THREADS': '2', 'DMLC_INTERFACE': 'eth0', 'SAGEMAKER_HTTP_PORT': '8080', 'SAGEMAKER_DATA_PATH': '/opt/ml', 'KMP_DUPLICATE_LIB_OK': 'True', 'KMP_INIT_AT_FORK': 'FALSE', 'DMLC_ROLE': 'worker', 'DMLC_PS_ROOT_URI': '10.0.162.146', 'DMLC_PS_ROOT_PORT': '9000', 'DMLC_NUM_SERVER': '1', 'DMLC_NUM_WORKER': '1'}\u001b[0m\n",
      "\u001b[34mProcess 35 is a shell:scheduler.\u001b[0m\n",
      "\u001b[34mProcess 44 is a shell:server.\u001b[0m\n",
      "\u001b[34mProcess 1 is a worker.\u001b[0m\n",
      "\u001b[34m[04/22/2022 16:13:45 INFO 139818605459264] Using default worker.\u001b[0m\n",
      "\u001b[34m[04/22/2022 16:13:45 INFO 139818605459264] Loaded iterator creator application/x-recordio-protobuf for content type ('application/x-recordio-protobuf', '1.0')\u001b[0m\n",
      "\u001b[34m[04/22/2022 16:13:45 INFO 139818605459264] Checkpoint loading and saving are disabled.\u001b[0m\n",
      "\u001b[34m[04/22/2022 16:13:45 INFO 139818605459264] Verifying hyperparamemters...\u001b[0m\n",
      "\u001b[34m[04/22/2022 16:13:45 INFO 139818605459264] Hyperparameters are correct.\u001b[0m\n",
      "\u001b[34m[04/22/2022 16:13:45 INFO 139818605459264] Validating that feature_dim agrees with dimensions in training data...\u001b[0m\n",
      "\u001b[34m[04/22/2022 16:13:45 INFO 139818605459264] feature_dim is correct.\u001b[0m\n",
      "\u001b[34m[04/22/2022 16:13:45 INFO 139818605459264] Validating memory limits...\u001b[0m\n",
      "\u001b[34m[04/22/2022 16:13:45 INFO 139818605459264] Available memory in bytes: 15282388992\u001b[0m\n",
      "\u001b[34m[04/22/2022 16:13:45 INFO 139818605459264] Estimated sample size in bytes: 4915200\u001b[0m\n",
      "\u001b[34m[04/22/2022 16:13:45 INFO 139818605459264] Estimated memory needed to build the forest in bytes: 12288000\u001b[0m\n",
      "\u001b[34m[04/22/2022 16:13:45 INFO 139818605459264] Memory limits validated.\u001b[0m\n",
      "\u001b[34m[04/22/2022 16:13:45 INFO 139818605459264] Starting cluster sharing facilities...\u001b[0m\n",
      "\u001b[34m[04/22/2022 16:13:45 INFO 139816821847808] concurrency model: async\u001b[0m\n",
      "\u001b[34m[04/22/2022 16:13:45 INFO 139818605459264] Create Store: dist_async\u001b[0m\n",
      "\u001b[34m[04/22/2022 16:13:45 INFO 139816821847808] masquerade (NAT) address: None\u001b[0m\n",
      "\u001b[34m[04/22/2022 16:13:45 INFO 139816821847808] passive ports: None\u001b[0m\n",
      "\u001b[34m[04/22/2022 16:13:45 INFO 139816821847808] >>> starting FTP server on 0.0.0.0:8999, pid=1 <<<\u001b[0m\n",
      "\u001b[34m[04/22/2022 16:13:46 INFO 139818605459264] Cluster sharing facilities started.\u001b[0m\n",
      "\u001b[34m[04/22/2022 16:13:46 INFO 139818605459264] Verifying all workers are accessible...\u001b[0m\n",
      "\u001b[34m[04/22/2022 16:13:46 INFO 139818605459264] All workers accessible.\u001b[0m\n",
      "\u001b[34m[04/22/2022 16:13:46 INFO 139818605459264] Initializing Sampler...\u001b[0m\n",
      "\u001b[34m[04/22/2022 16:13:46 INFO 139818605459264] Sampler correctly initialized.\u001b[0m\n",
      "\u001b[34m#metrics {\"StartTime\": 1650644025.1224408, \"EndTime\": 1650644026.7078836, \"Dimensions\": {\"Algorithm\": \"RandomCutForest\", \"Host\": \"algo-1\", \"Operation\": \"training\"}, \"Metrics\": {\"initialize.time\": {\"sum\": 1578.1230926513672, \"count\": 1, \"min\": 1578.1230926513672, \"max\": 1578.1230926513672}}}\u001b[0m\n",
      "\u001b[34m#metrics {\"StartTime\": 1650644026.7080996, \"EndTime\": 1650644026.7081492, \"Dimensions\": {\"Algorithm\": \"RandomCutForest\", \"Host\": \"algo-1\", \"Operation\": \"training\", \"Meta\": \"init_train_data_iter\"}, \"Metrics\": {\"Total Records Seen\": {\"sum\": 0.0, \"count\": 1, \"min\": 0, \"max\": 0}, \"Total Batches Seen\": {\"sum\": 0.0, \"count\": 1, \"min\": 0, \"max\": 0}, \"Max Records Seen Between Resets\": {\"sum\": 0.0, \"count\": 1, \"min\": 0, \"max\": 0}, \"Max Batches Seen Between Resets\": {\"sum\": 0.0, \"count\": 1, \"min\": 0, \"max\": 0}, \"Reset Count\": {\"sum\": 0.0, \"count\": 1, \"min\": 0, \"max\": 0}, \"Number of Records Since Last Reset\": {\"sum\": 0.0, \"count\": 1, \"min\": 0, \"max\": 0}, \"Number of Batches Since Last Reset\": {\"sum\": 0.0, \"count\": 1, \"min\": 0, \"max\": 0}}}\u001b[0m\n",
      "\u001b[34m[2022-04-22 16:13:46.708] [tensorio] [info] epoch_stats={\"data_pipeline\": \"/opt/ml/input/data/train\", \"epoch\": 0, \"duration\": 1585, \"num_examples\": 1, \"num_bytes\": 72000}\u001b[0m\n",
      "\u001b[34m[04/22/2022 16:13:46 INFO 139818605459264] Sampling training data...\u001b[0m\n",
      "\u001b[34m[2022-04-22 16:13:46.884] [tensorio] [info] epoch_stats={\"data_pipeline\": \"/opt/ml/input/data/train\", \"epoch\": 1, \"duration\": 174, \"num_examples\": 110, \"num_bytes\": 7920000}\u001b[0m\n",
      "\u001b[34m[04/22/2022 16:13:46 INFO 139818605459264] Sampling training data completed.\u001b[0m\n",
      "\u001b[34m#metrics {\"StartTime\": 1650644026.7080364, \"EndTime\": 1650644026.9037342, \"Dimensions\": {\"Algorithm\": \"RandomCutForest\", \"Host\": \"algo-1\", \"Operation\": \"training\"}, \"Metrics\": {\"epochs\": {\"sum\": 1.0, \"count\": 1, \"min\": 1, \"max\": 1}, \"update.time\": {\"sum\": 194.60248947143555, \"count\": 1, \"min\": 194.60248947143555, \"max\": 194.60248947143555}}}\u001b[0m\n",
      "\u001b[34m[04/22/2022 16:13:46 INFO 139818605459264] Early stop condition met. Stopping training.\u001b[0m\n",
      "\u001b[34m[04/22/2022 16:13:46 INFO 139818605459264] #progress_metric: host=algo-1, completed 100 % epochs\u001b[0m\n",
      "\u001b[34m#metrics {\"StartTime\": 1650644026.7090847, \"EndTime\": 1650644026.9043107, \"Dimensions\": {\"Algorithm\": \"RandomCutForest\", \"Host\": \"algo-1\", \"Operation\": \"training\", \"epoch\": 0, \"Meta\": \"training_data_iter\"}, \"Metrics\": {\"Total Records Seen\": {\"sum\": 110000.0, \"count\": 1, \"min\": 110000, \"max\": 110000}, \"Total Batches Seen\": {\"sum\": 110.0, \"count\": 1, \"min\": 110, \"max\": 110}, \"Max Records Seen Between Resets\": {\"sum\": 110000.0, \"count\": 1, \"min\": 110000, \"max\": 110000}, \"Max Batches Seen Between Resets\": {\"sum\": 110.0, \"count\": 1, \"min\": 110, \"max\": 110}, \"Reset Count\": {\"sum\": 1.0, \"count\": 1, \"min\": 1, \"max\": 1}, \"Number of Records Since Last Reset\": {\"sum\": 110000.0, \"count\": 1, \"min\": 110000, \"max\": 110000}, \"Number of Batches Since Last Reset\": {\"sum\": 110.0, \"count\": 1, \"min\": 110, \"max\": 110}}}\u001b[0m\n",
      "\u001b[34m[04/22/2022 16:13:46 INFO 139818605459264] #throughput_metric: host=algo-1, train throughput=562986.2686406894 records/second\u001b[0m\n",
      "\u001b[34m[04/22/2022 16:13:46 INFO 139818605459264] Master node: building Random Cut Forest...\u001b[0m\n",
      "\u001b[34m[04/22/2022 16:13:46 INFO 139818605459264] Gathering samples...\u001b[0m\n",
      "\u001b[34m[04/22/2022 16:13:46 INFO 139818605459264] 51200 samples gathered\u001b[0m\n",
      "\u001b[34m[04/22/2022 16:13:46 INFO 139818605459264] Building Random Cut Forest...\u001b[0m\n",
      "\u001b[34m[04/22/2022 16:13:46 INFO 139818605459264] Random Cut Forest built: \u001b[0m\n",
      "\u001b[34mForestInfo{num_trees: 100, num_samples_in_forest: 51200, num_samples_per_tree: 512, sample_dim: 6, shingle_size: 1, trees_num_nodes: [733, 735, 729, 733, 761, 713, 729, 747, 729, 745, 741, 713, 735, 723, 735, 743, 739, 739, 735, 723, 735, 735, 761, 739, 723, 741, 749, 781, 735, 733, 753, 737, 725, 735, 731, 737, 729, 713, 727, 759, 723, 733, 723, 739, 737, 733, 743, 747, 741, 731, 729, 727, 717, 739, 729, 715, 739, 737, 723, 723, 741, 733, 729, 707, 731, 729, 765, 717, 735, 727, 725, 743, 733, 721, 747, 719, 727, 727, 725, 729, 721, 733, 745, 729, 733, 731, 735, 743, 729, 733, 761, 731, 773, 715, 723, 745, 763, 725, 743, 729, ], trees_depth: [21, 25, 20, 21, 20, 22, 19, 24, 24, 21, 24, 22, 24, 19, 25, 22, 20, 20, 23, 22, 22, 21, 22, 21, 20, 24, 23, 24, 20, 18, 22, 21, 24, 23, 22, 20, 20, 19, 25, 19, 21, 23, 19, 26, 22, 21, 23, 25, 18, 22, 22, 22, 22, 20, 19, 24, 22, 21, 23, 21, 22, 22, 25, 19, 18, 18, 22, 21, 23, 20, 25, 20, 20, 21, 22, 18, 19, 21, 20, 20, 21, 21, 26, 21, 21, 23, 24, 18, 21, 24, 19, 19, 20, 23, 25, 20, 21, 20, 27, 28, ], max_num_nodes: 781, min_num_nodes: 707, avg_num_nodes: 734, max_tree_depth: 28, min_tree_depth: 18, avg_tree_depth: 21, mem_size: 13513072}\u001b[0m\n",
      "\u001b[34m#metrics {\"StartTime\": 1650644026.9039302, \"EndTime\": 1650644026.982567, \"Dimensions\": {\"Algorithm\": \"RandomCutForest\", \"Host\": \"algo-1\", \"Operation\": \"training\"}, \"Metrics\": {\"fit_model.time\": {\"sum\": 46.894073486328125, \"count\": 1, \"min\": 46.894073486328125, \"max\": 46.894073486328125}, \"model.bytes\": {\"sum\": 13513072.0, \"count\": 1, \"min\": 13513072, \"max\": 13513072}, \"finalize.time\": {\"sum\": 77.8493881225586, \"count\": 1, \"min\": 77.8493881225586, \"max\": 77.8493881225586}}}\u001b[0m\n",
      "\u001b[34m[04/22/2022 16:13:47 INFO 139818605459264] Master node: Serializing the RandomCutForest model\u001b[0m\n",
      "\u001b[34m#metrics {\"StartTime\": 1650644026.9827332, \"EndTime\": 1650644027.1599808, \"Dimensions\": {\"Algorithm\": \"RandomCutForest\", \"Host\": \"algo-1\", \"Operation\": \"training\"}, \"Metrics\": {\"serialize_model.time\": {\"sum\": 177.18005180358887, \"count\": 1, \"min\": 177.18005180358887, \"max\": 177.18005180358887}}}\u001b[0m\n",
      "\u001b[34m[04/22/2022 16:13:47 INFO 139818605459264] Test data is not provided.\u001b[0m\n",
      "\u001b[34m#metrics {\"StartTime\": 1650644027.1601286, \"EndTime\": 1650644027.1603222, \"Dimensions\": {\"Algorithm\": \"RandomCutForest\", \"Host\": \"algo-1\", \"Operation\": \"training\"}, \"Metrics\": {\"setuptime\": {\"sum\": 38.7725830078125, \"count\": 1, \"min\": 38.7725830078125, \"max\": 38.7725830078125}, \"totaltime\": {\"sum\": 2089.165210723877, \"count\": 1, \"min\": 2089.165210723877, \"max\": 2089.165210723877}}}\u001b[0m\n",
      "\u001b[34m[04/22/2022 16:13:47 INFO 139818605459264 integration.py:636] worker closed\u001b[0m\n",
      "\n",
      "2022-04-22 16:13:55 Uploading - Uploading generated training model\n",
      "2022-04-22 16:14:15 Completed - Training job completed\n",
      "Training seconds: 108\n",
      "Billable seconds: 108\n"
     ]
    }
   ],
   "source": [
    "from sagemaker import RandomCutForest\n",
    "\n",
    "session = sagemaker.Session()\n",
    "\n",
    "# specify general training job information\n",
    "rcf = RandomCutForest(\n",
    "    role=role,\n",
    "    instance_count=1,\n",
    "    instance_type=\"ml.m4.xlarge\",\n",
    "    data_location=f\"s3://{S3_BUCKET}/\",\n",
    "    output_path=f\"s3://{S3_BUCKET}/output\",\n",
    "    num_samples_per_tree=512,               # -- change 512, 1024 or some other fraction of file size \n",
    "    num_trees=100,                          # -- number of trees, more is generally good 50 - 1k is generally fine. \n",
    ")\n",
    "\n",
    "# automatically upload the training data to S3 and run the training job\n",
    "rcf.fit(rcf.record_set(df_prep[training_features].to_numpy().reshape(-1,feature_count)))"
   ]
  },
  {
   "cell_type": "code",
   "execution_count": 12,
   "id": "5645ab62",
   "metadata": {},
   "outputs": [
    {
     "name": "stderr",
     "output_type": "stream",
     "text": [
      "Defaulting to the only supported framework/algorithm version: 1. Ignoring framework/algorithm version: 1.\n"
     ]
    },
    {
     "name": "stdout",
     "output_type": "stream",
     "text": [
      "--------!"
     ]
    },
    {
     "data": {
      "text/plain": [
       "<sagemaker.amazon.randomcutforest.RandomCutForestPredictor at 0x7f82b6096438>"
      ]
     },
     "execution_count": 12,
     "metadata": {},
     "output_type": "execute_result"
    }
   ],
   "source": [
    "# -- deploys model \n",
    "rcf_inference = rcf.deploy(initial_instance_count=1, instance_type=\"ml.m4.xlarge\")\n",
    "rcf_inference"
   ]
  },
  {
   "cell_type": "code",
   "execution_count": 13,
   "id": "9a305600",
   "metadata": {},
   "outputs": [
    {
     "name": "stderr",
     "output_type": "stream",
     "text": [
      "The endpoint attribute has been renamed in sagemaker>=2.\n",
      "See: https://sagemaker.readthedocs.io/en/stable/v2.html for details.\n"
     ]
    },
    {
     "name": "stdout",
     "output_type": "stream",
     "text": [
      "Endpoint name: randomcutforest-2022-04-22-16-14-45-973\n"
     ]
    }
   ],
   "source": [
    "# -- name of the endpiont \n",
    "print(f\"Endpoint name: {rcf_inference.endpoint}\")"
   ]
  },
  {
   "cell_type": "code",
   "execution_count": 14,
   "id": "7e9a1943",
   "metadata": {},
   "outputs": [],
   "source": [
    "# -- setup for predictions \n",
    "from sagemaker.serializers import CSVSerializer\n",
    "from sagemaker.deserializers import JSONDeserializer\n",
    "\n",
    "rcf_inference.serializer = CSVSerializer()\n",
    "rcf_inference.deserializer = JSONDeserializer()"
   ]
  },
  {
   "cell_type": "markdown",
   "id": "b53ccff0",
   "metadata": {},
   "source": [
    "## Evaluate \n",
    "\n",
    "-----\n",
    "\n",
    "So here we are going to score the dataset and evaluate a \"suggested\" outlier score threshold. this will ultimately be used to create our new \"EVENT_LABEL\" \n",
    "\n",
    "1. first score the entire dataset \n",
    "2. identify a \"sugested outlier score threshold\"  based on identifying the top 400 most anomalous events.  \n",
    "3. Finally we'll look at the number of \"anomalies\" produced at the \"sugested outlier_score threshold\", you can simply increase or decrease the threshold to generate the number of anomalies.  \n",
    "\n",
    "> Once you are satisfied with the sugested_threshold, it will be used to create your EVENT_LABEL.\n",
    "\n",
    "you can override the sugestion by simply plugging in a new value for example\n",
    "```python\n",
    "\n",
    "RCF_ANOMALY_THRESHOLD = 3.0\n",
    "\n",
    "```\n"
   ]
  },
  {
   "cell_type": "code",
   "execution_count": 15,
   "id": "4152978d",
   "metadata": {},
   "outputs": [
    {
     "data": {
      "text/html": [
       "<div>\n",
       "<style scoped>\n",
       "    .dataframe tbody tr th:only-of-type {\n",
       "        vertical-align: middle;\n",
       "    }\n",
       "\n",
       "    .dataframe tbody tr th {\n",
       "        vertical-align: top;\n",
       "    }\n",
       "\n",
       "    .dataframe thead th {\n",
       "        text-align: right;\n",
       "    }\n",
       "</style>\n",
       "<table border=\"1\" class=\"dataframe\">\n",
       "  <thead>\n",
       "    <tr style=\"text-align: right;\">\n",
       "      <th></th>\n",
       "      <th>EVENT_LABEL</th>\n",
       "      <th>account_tenure_yrs</th>\n",
       "      <th>normalized_currency_amt</th>\n",
       "      <th>original_currency_amt</th>\n",
       "      <th>currency_cad</th>\n",
       "      <th>currency_eur</th>\n",
       "      <th>currency_usd</th>\n",
       "      <th>outlier_score</th>\n",
       "    </tr>\n",
       "  </thead>\n",
       "  <tbody>\n",
       "    <tr>\n",
       "      <th>0</th>\n",
       "      <td>legit</td>\n",
       "      <td>11.0</td>\n",
       "      <td>38334.0</td>\n",
       "      <td>36466.0</td>\n",
       "      <td>0</td>\n",
       "      <td>1</td>\n",
       "      <td>0</td>\n",
       "      <td>0.711910</td>\n",
       "    </tr>\n",
       "    <tr>\n",
       "      <th>1</th>\n",
       "      <td>legit</td>\n",
       "      <td>6.0</td>\n",
       "      <td>50104.0</td>\n",
       "      <td>24775.0</td>\n",
       "      <td>0</td>\n",
       "      <td>0</td>\n",
       "      <td>1</td>\n",
       "      <td>0.732559</td>\n",
       "    </tr>\n",
       "    <tr>\n",
       "      <th>2</th>\n",
       "      <td>legit</td>\n",
       "      <td>16.0</td>\n",
       "      <td>21516.0</td>\n",
       "      <td>46364.0</td>\n",
       "      <td>0</td>\n",
       "      <td>0</td>\n",
       "      <td>1</td>\n",
       "      <td>1.084913</td>\n",
       "    </tr>\n",
       "    <tr>\n",
       "      <th>3</th>\n",
       "      <td>legit</td>\n",
       "      <td>6.0</td>\n",
       "      <td>50446.0</td>\n",
       "      <td>23668.0</td>\n",
       "      <td>0</td>\n",
       "      <td>0</td>\n",
       "      <td>1</td>\n",
       "      <td>0.746878</td>\n",
       "    </tr>\n",
       "    <tr>\n",
       "      <th>4</th>\n",
       "      <td>legit</td>\n",
       "      <td>10.0</td>\n",
       "      <td>43560.0</td>\n",
       "      <td>32309.0</td>\n",
       "      <td>0</td>\n",
       "      <td>1</td>\n",
       "      <td>0</td>\n",
       "      <td>0.677090</td>\n",
       "    </tr>\n",
       "  </tbody>\n",
       "</table>\n",
       "</div>"
      ],
      "text/plain": [
       "  EVENT_LABEL  account_tenure_yrs  normalized_currency_amt  \\\n",
       "0       legit                11.0                  38334.0   \n",
       "1       legit                 6.0                  50104.0   \n",
       "2       legit                16.0                  21516.0   \n",
       "3       legit                 6.0                  50446.0   \n",
       "4       legit                10.0                  43560.0   \n",
       "\n",
       "   original_currency_amt  currency_cad  currency_eur  currency_usd  \\\n",
       "0                36466.0             0             1             0   \n",
       "1                24775.0             0             0             1   \n",
       "2                46364.0             0             0             1   \n",
       "3                23668.0             0             0             1   \n",
       "4                32309.0             0             1             0   \n",
       "\n",
       "   outlier_score  \n",
       "0       0.711910  \n",
       "1       0.732559  \n",
       "2       1.084913  \n",
       "3       0.746878  \n",
       "4       0.677090  "
      ]
     },
     "execution_count": 15,
     "metadata": {},
     "output_type": "execute_result"
    }
   ],
   "source": [
    "# -- 1. score entire datset \n",
    "scored_data = df_prep[training_features].to_numpy().reshape(-1, feature_count)\n",
    "results = rcf_inference.predict(scored_data)\n",
    "scores = [datum[\"score\"] for datum in results[\"scores\"]]\n",
    "\n",
    "# add scores to taxi data frame and print first few values\n",
    "df_prep[\"outlier_score\"] = pd.Series(scores, df_prep.index)\n",
    "df_prep.head()"
   ]
  },
  {
   "cell_type": "code",
   "execution_count": 16,
   "id": "6f4ee50b",
   "metadata": {},
   "outputs": [
    {
     "name": "stdout",
     "output_type": "stream",
     "text": [
      "sugested outlier_score threshold 2.052\n"
     ]
    }
   ],
   "source": [
    "# -- 2. sugested score threshold --- \n",
    "RCF_ANOMALY_THRESHOLD = df_prep.sort_values(\"outlier_score\", ascending=False).iloc[400][\"outlier_score\"]\n",
    "print(\"sugested outlier_score threshold {:.3f}\".format(RCF_ANOMALY_THRESHOLD))"
   ]
  },
  {
   "cell_type": "code",
   "execution_count": 18,
   "id": "e2961749",
   "metadata": {},
   "outputs": [
    {
     "data": {
      "text/plain": [
       "<matplotlib.lines.Line2D at 0x7f82991b1748>"
      ]
     },
     "execution_count": 18,
     "metadata": {},
     "output_type": "execute_result"
    },
    {
     "data": {
      "image/png": "[encoded data removed]",
      "text/plain": [
       "<Figure size 1440x576 with 1 Axes>"
      ]
     },
     "metadata": {
      "needs_background": "light"
     },
     "output_type": "display_data"
    }
   ],
   "source": [
    "# \n",
    "plt.figure(figsize = (20,8))\n",
    "sns.histplot(data=df_prep,x=\"outlier_score\", bins=100)\n",
    "plt.title(\"Predicted Score Distribution - Suggested Threshold {:.3f}\".format(RCF_ANOMALY_THRESHOLD))\n",
    "plt.xlabel(\"Predicted Score\")\n",
    "plt.ylabel(\"Frequency\")\n",
    "plt.axvline(x=RCF_ANOMALY_THRESHOLD, ls='--', linewidth = 2, c='grey')\n"
   ]
  },
  {
   "cell_type": "code",
   "execution_count": 19,
   "id": "0d9b031e",
   "metadata": {},
   "outputs": [
    {
     "name": "stdout",
     "output_type": "stream",
     "text": [
      "Original fraud labels + some overlapping number of Anomalies\n",
      "legit    109766\n",
      "fraud       234\n",
      "Name: EVENT_LABEL, dtype: int64\n"
     ]
    },
    {
     "data": {
      "text/plain": [
       "<matplotlib.lines.Line2D at 0x7f82989ac8d0>"
      ]
     },
     "execution_count": 19,
     "metadata": {},
     "output_type": "execute_result"
    },
    {
     "data": {
      "image/png": "[encoded data removed]",
      "text/plain": [
       "<Figure size 1440x576 with 1 Axes>"
      ]
     },
     "metadata": {
      "needs_background": "light"
     },
     "output_type": "display_data"
    }
   ],
   "source": [
    "# -- pick a threshold here i use 2, docs often recomend 3 key is to identify enough variables to train a model \n",
    "\n",
    "if event_label_ind == 0:\n",
    "    df_prep[\"EVENT_LABEL\"]  = np.where(df_prep[\"outlier_score\"] >= RCF_ANOMALY_THRESHOLD, \"fraud\",\"legit\")\n",
    "    print(df[\"EVENT_LABEL\"].value_counts())\n",
    "\n",
    "if event_label_ind == 1:\n",
    "    df_prep[\"EVENT_LABEL\"] = np.where((df_prep[\"outlier_score\"] >= RCF_ANOMALY_THRESHOLD) & (df_prep[\"EVENT_LABEL\"] != FRAUD_LABEL),\"fraud\",\"legit\")\n",
    "    print(\"Original fraud labels + some overlapping number of Anomalies\")\n",
    "    print(df_prep[\"EVENT_LABEL\"].value_counts())    \n",
    "    \n",
    "\n",
    "plt.figure(figsize = (20,8))\n",
    "sns.histplot(data=df_prep,x=\"outlier_score\", bins=100, )\n",
    "plt.title(\"Predicted Score Distribution - Pick a Threshold\")\n",
    "plt.xlabel(\"Predicted Score\")\n",
    "plt.ylabel(\"Frequency\")\n",
    "plt.xlim(df_prep[\"outlier_score\"].min(), df_prep[\"outlier_score\"].max())\n",
    "plt.text(x=RCF_ANOMALY_THRESHOLD - 0.5,y=3000,s=\"Predicted LEGIT\", fontsize=15)\n",
    "plt.text(x=RCF_ANOMALY_THRESHOLD + 0.25,y=3000,s=\"Predicted FRAUD\", fontsize=15)\n",
    "plt.axvline(x=RCF_ANOMALY_THRESHOLD, ls='--', linewidth = 2, c='grey')"
   ]
  },
  {
   "cell_type": "markdown",
   "id": "f066cec8",
   "metadata": {},
   "source": [
    "## Write write out Dataset to S3\n",
    "----\n",
    "1. update/create an EVENT LABEL on the original input dataset. \n",
    "2. write data frame to S3. \n",
    "3. fire up AFD and train a new model "
   ]
  },
  {
   "cell_type": "code",
   "execution_count": 20,
   "id": "38675848",
   "metadata": {},
   "outputs": [
    {
     "data": {
      "text/html": [
       "<div>\n",
       "<style scoped>\n",
       "    .dataframe tbody tr th:only-of-type {\n",
       "        vertical-align: middle;\n",
       "    }\n",
       "\n",
       "    .dataframe tbody tr th {\n",
       "        vertical-align: top;\n",
       "    }\n",
       "\n",
       "    .dataframe thead th {\n",
       "        text-align: right;\n",
       "    }\n",
       "</style>\n",
       "<table border=\"1\" class=\"dataframe\">\n",
       "  <thead>\n",
       "    <tr style=\"text-align: right;\">\n",
       "      <th></th>\n",
       "      <th>account_tenure_yrs</th>\n",
       "      <th>normalized_currency_amt</th>\n",
       "      <th>original_currency_amt</th>\n",
       "      <th>currency</th>\n",
       "      <th>EVENT_TIMESTAMP</th>\n",
       "      <th>ip_address</th>\n",
       "      <th>email_address</th>\n",
       "      <th>EVENT_LABEL</th>\n",
       "    </tr>\n",
       "  </thead>\n",
       "  <tbody>\n",
       "    <tr>\n",
       "      <th>0</th>\n",
       "      <td>11.0</td>\n",
       "      <td>38334.0</td>\n",
       "      <td>36466.0</td>\n",
       "      <td>eur</td>\n",
       "      <td>2021-08-14 05:38:58</td>\n",
       "      <td>57.115.15.248</td>\n",
       "      <td>lcarlson@example.org</td>\n",
       "      <td>legit</td>\n",
       "    </tr>\n",
       "    <tr>\n",
       "      <th>1</th>\n",
       "      <td>6.0</td>\n",
       "      <td>50104.0</td>\n",
       "      <td>24775.0</td>\n",
       "      <td>usd</td>\n",
       "      <td>2021-10-21 13:29:39</td>\n",
       "      <td>203.218.41.214</td>\n",
       "      <td>brianfowler@example.org</td>\n",
       "      <td>legit</td>\n",
       "    </tr>\n",
       "    <tr>\n",
       "      <th>2</th>\n",
       "      <td>16.0</td>\n",
       "      <td>21516.0</td>\n",
       "      <td>46364.0</td>\n",
       "      <td>usd</td>\n",
       "      <td>2021-06-18 03:28:47</td>\n",
       "      <td>131.7.35.71</td>\n",
       "      <td>lthomas@example.org</td>\n",
       "      <td>legit</td>\n",
       "    </tr>\n",
       "    <tr>\n",
       "      <th>3</th>\n",
       "      <td>6.0</td>\n",
       "      <td>50446.0</td>\n",
       "      <td>23668.0</td>\n",
       "      <td>usd</td>\n",
       "      <td>2021-05-08 22:44:29</td>\n",
       "      <td>150.245.11.96</td>\n",
       "      <td>victoria20@example.com</td>\n",
       "      <td>legit</td>\n",
       "    </tr>\n",
       "    <tr>\n",
       "      <th>4</th>\n",
       "      <td>10.0</td>\n",
       "      <td>43560.0</td>\n",
       "      <td>32309.0</td>\n",
       "      <td>eur</td>\n",
       "      <td>2021-08-24 00:17:08</td>\n",
       "      <td>155.110.112.38</td>\n",
       "      <td>amandamartinez@example.com</td>\n",
       "      <td>legit</td>\n",
       "    </tr>\n",
       "  </tbody>\n",
       "</table>\n",
       "</div>"
      ],
      "text/plain": [
       "   account_tenure_yrs  normalized_currency_amt  original_currency_amt  \\\n",
       "0                11.0                  38334.0                36466.0   \n",
       "1                 6.0                  50104.0                24775.0   \n",
       "2                16.0                  21516.0                46364.0   \n",
       "3                 6.0                  50446.0                23668.0   \n",
       "4                10.0                  43560.0                32309.0   \n",
       "\n",
       "  currency      EVENT_TIMESTAMP      ip_address               email_address  \\\n",
       "0      eur  2021-08-14 05:38:58   57.115.15.248        lcarlson@example.org   \n",
       "1      usd  2021-10-21 13:29:39  203.218.41.214     brianfowler@example.org   \n",
       "2      usd  2021-06-18 03:28:47     131.7.35.71         lthomas@example.org   \n",
       "3      usd  2021-05-08 22:44:29   150.245.11.96      victoria20@example.com   \n",
       "4      eur  2021-08-24 00:17:08  155.110.112.38  amandamartinez@example.com   \n",
       "\n",
       "  EVENT_LABEL  \n",
       "0       legit  \n",
       "1       legit  \n",
       "2       legit  \n",
       "3       legit  \n",
       "4       legit  "
      ]
     },
     "execution_count": 20,
     "metadata": {},
     "output_type": "execute_result"
    }
   ],
   "source": [
    "# 2. drop 'outlier_score' and 'outlier_ind' from the dataset! \n",
    "df[\"EVENT_LABEL\"] = df_prep[\"EVENT_LABEL\"]\n",
    "df.head()"
   ]
  },
  {
   "cell_type": "code",
   "execution_count": 21,
   "id": "0d35d34f",
   "metadata": {},
   "outputs": [
    {
     "name": "stdout",
     "output_type": "stream",
     "text": [
      "AFD ready file writen to :s3://2022-data/rcf_110k_prepared.csv\n",
      "\n",
      "{'ResponseMetadata': {'RequestId': 'B4H2A20NH5Y5FAK2', 'HostId': 'ZihVrkEUExIo7Ij9XTVp0jzoAZmOYIFx9iLnE9v+FmesG3YofBTJ6qQ3ef7BEmoKMMXAgjqFvao=', 'HTTPStatusCode': 200, 'HTTPHeaders': {'x-amz-id-2': 'ZihVrkEUExIo7Ij9XTVp0jzoAZmOYIFx9iLnE9v+FmesG3YofBTJ6qQ3ef7BEmoKMMXAgjqFvao=', 'x-amz-request-id': 'B4H2A20NH5Y5FAK2', 'date': 'Fri, 22 Apr 2022 16:21:38 GMT', 'etag': '\"7230128d0b3df818ae5b509ab9adbad6\"', 'server': 'AmazonS3', 'content-length': '0'}, 'RetryAttempts': 0}, 'ETag': '\"7230128d0b3df818ae5b509ab9adbad6\"'}\n",
      "\n"
     ]
    }
   ],
   "source": [
    "# upload train and test to S3 \n",
    "s3 = boto3.client(\"s3\")\n",
    "csv_buf = StringIO()\n",
    "# -- write training data set to S3\n",
    "df.to_csv(csv_buf, header=True, index=False)\n",
    "csv_buf.seek(0)\n",
    "resp = s3.put_object(Bucket=S3_BUCKET, Body=csv_buf.getvalue(), Key=S3_FILE_OUT)\n",
    "print(\"AFD ready file writen to :{}\\n\".format(S3_LOCATION_OUT))\n",
    "print(\"{}\\n\".format(resp))"
   ]
  },
  {
   "cell_type": "code",
   "execution_count": null,
   "id": "79b33a17",
   "metadata": {},
   "outputs": [],
   "source": []
  }
 ],
 "metadata": {
  "kernelspec": {
   "display_name": "conda_python3",
   "language": "python",
   "name": "conda_python3"
  },
  "language_info": {
   "codemirror_mode": {
    "name": "ipython",
    "version": 3
   },
   "file_extension": ".py",
   "mimetype": "text/x-python",
   "name": "python",
   "nbconvert_exporter": "python",
   "pygments_lexer": "ipython3",
   "version": "3.6.13"
  }
 },
 "nbformat": 4,
 "nbformat_minor": 5
}
